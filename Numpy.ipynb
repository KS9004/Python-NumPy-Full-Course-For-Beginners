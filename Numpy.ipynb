{
 "cells": [
  {
   "cell_type": "code",
   "execution_count": 4,
   "id": "965458d0-9fd3-4c83-aff4-a7aed724e8f9",
   "metadata": {},
   "outputs": [],
   "source": [
    "import numpy as np"
   ]
  },
  {
   "cell_type": "code",
   "execution_count": 5,
   "id": "59fca430-2b6e-4d2c-9cc5-66f3e4019f7b",
   "metadata": {},
   "outputs": [
    {
     "data": {
      "text/plain": [
       "'2.1.2'"
      ]
     },
     "execution_count": 5,
     "metadata": {},
     "output_type": "execute_result"
    }
   ],
   "source": [
    "np.__version__"
   ]
  },
  {
   "cell_type": "code",
   "execution_count": null,
   "id": "32a4d43d-69df-4b16-9471-548f2cb39452",
   "metadata": {},
   "outputs": [],
   "source": []
  },
  {
   "cell_type": "code",
   "execution_count": 6,
   "id": "71f2047d-98dd-47fe-a2ce-53fc6e80c427",
   "metadata": {},
   "outputs": [],
   "source": [
    "# Numpy array : It is collection of data type or elements.\n",
    "# Numpy arrays are the foundation of most numerical computing in Python\n",
    "# Because they offer efficient ways to store and manipulate large datasets.\n",
    "\n",
    "# --> np.array() : It is used to create an array object from any iterable such as list, or another array.\n"
   ]
  },
  {
   "cell_type": "code",
   "execution_count": 7,
   "id": "86cdee1c-728a-4f12-87a9-efc88def9ebc",
   "metadata": {},
   "outputs": [
    {
     "name": "stdout",
     "output_type": "stream",
     "text": [
      "[1 2 3]\n"
     ]
    }
   ],
   "source": [
    "my_list = [1, 2, 3]\n",
    "\n",
    "array = np.array(my_list) \n",
    "\n",
    "print(array)"
   ]
  },
  {
   "cell_type": "code",
   "execution_count": 8,
   "id": "9e08928e-2782-4e84-aa38-6f725e3187a4",
   "metadata": {},
   "outputs": [
    {
     "data": {
      "text/plain": [
       "numpy.ndarray"
      ]
     },
     "execution_count": 8,
     "metadata": {},
     "output_type": "execute_result"
    }
   ],
   "source": [
    "type(array)"
   ]
  },
  {
   "cell_type": "code",
   "execution_count": 9,
   "id": "a8a79f6e-f4bc-4fac-91a4-d10128e19ccf",
   "metadata": {},
   "outputs": [
    {
     "data": {
      "text/plain": [
       "dtype('int64')"
      ]
     },
     "execution_count": 9,
     "metadata": {},
     "output_type": "execute_result"
    }
   ],
   "source": [
    "array.dtype"
   ]
  },
  {
   "cell_type": "code",
   "execution_count": 10,
   "id": "ecaa1519-c4b1-4116-8cf6-d99072fe84f5",
   "metadata": {},
   "outputs": [
    {
     "name": "stdout",
     "output_type": "stream",
     "text": [
      "[23 25 34]\n"
     ]
    }
   ],
   "source": [
    "array2 = np.array([23, 25.5, 34.5], dtype=int)\n",
    "print(array2)"
   ]
  },
  {
   "cell_type": "code",
   "execution_count": 11,
   "id": "d1c7e3a4-33a5-4223-a360-75f2b0fff89f",
   "metadata": {},
   "outputs": [
    {
     "data": {
      "text/plain": [
       "dtype('int64')"
      ]
     },
     "execution_count": 11,
     "metadata": {},
     "output_type": "execute_result"
    }
   ],
   "source": [
    "array2.dtype"
   ]
  },
  {
   "cell_type": "code",
   "execution_count": 12,
   "id": "9e5683b1-5682-4194-a1df-16cedac6edff",
   "metadata": {},
   "outputs": [
    {
     "name": "stdout",
     "output_type": "stream",
     "text": [
      "['James' 'Bob' 'Rock']\n"
     ]
    }
   ],
   "source": [
    "names = ['James', \"Bob\", \"Rock\"]\n",
    "\n",
    "array_names = np.array(names,dtype=str)\n",
    "print(array_names)"
   ]
  },
  {
   "cell_type": "code",
   "execution_count": 13,
   "id": "aed4c230-5e0a-458b-8c7a-81cc801bbb9b",
   "metadata": {},
   "outputs": [
    {
     "data": {
      "text/plain": [
       "dtype('<U5')"
      ]
     },
     "execution_count": 13,
     "metadata": {},
     "output_type": "execute_result"
    }
   ],
   "source": [
    "array_names.dtype"
   ]
  },
  {
   "cell_type": "code",
   "execution_count": 14,
   "id": "7b86563c-b525-452e-a078-02f132bbd14e",
   "metadata": {},
   "outputs": [
    {
     "data": {
      "text/plain": [
       "3"
      ]
     },
     "execution_count": 14,
     "metadata": {},
     "output_type": "execute_result"
    }
   ],
   "source": [
    "array_names.size"
   ]
  },
  {
   "cell_type": "code",
   "execution_count": 15,
   "id": "4dd28d75-e3ca-439b-bdfc-7615b706cc24",
   "metadata": {},
   "outputs": [
    {
     "name": "stdout",
     "output_type": "stream",
     "text": [
      "[[1 2 3 4]\n",
      " [5 6 7 8]]\n"
     ]
    }
   ],
   "source": [
    "# Multi-dimensional arrays: You can create 1D, 2D or 3D arrays by passing nested lists.\n",
    "\n",
    "list = [1,2,3,4]\n",
    "list2 = [5, 6, 7, 8]\n",
    "\n",
    "array2d = np.array([[1,2,3,4], [5,6,7,8]])\n",
    "print(array2d)\n"
   ]
  },
  {
   "cell_type": "code",
   "execution_count": 16,
   "id": "37fe1913-49c0-4fed-9cd5-8071ded294a5",
   "metadata": {},
   "outputs": [
    {
     "data": {
      "text/plain": [
       "2"
      ]
     },
     "execution_count": 16,
     "metadata": {},
     "output_type": "execute_result"
    }
   ],
   "source": [
    "array2d.ndim"
   ]
  },
  {
   "cell_type": "code",
   "execution_count": 17,
   "id": "6403fce2-b022-403c-9c2e-0e15ba1b4781",
   "metadata": {},
   "outputs": [
    {
     "data": {
      "text/plain": [
       "(2, 4)"
      ]
     },
     "execution_count": 17,
     "metadata": {},
     "output_type": "execute_result"
    }
   ],
   "source": [
    "array2d.shape"
   ]
  },
  {
   "cell_type": "code",
   "execution_count": 18,
   "id": "ce2c810d-a7e5-419f-8ca8-29446bca3f5a",
   "metadata": {},
   "outputs": [
    {
     "name": "stdout",
     "output_type": "stream",
     "text": [
      "[[[1 2 3 4]\n",
      "  [5 6 7 8]]\n",
      "\n",
      " [[1 2 3 4]\n",
      "  [5 6 7 8]]]\n"
     ]
    }
   ],
   "source": [
    "array3d = np.array([[[1,2,3,4], [5,6,7,8]], [[1,2,3,4], [5,6,7,8]]])\n",
    "print(array3d)"
   ]
  },
  {
   "cell_type": "code",
   "execution_count": 19,
   "id": "37229b7e-6c17-4e05-a326-9da10b7b7248",
   "metadata": {},
   "outputs": [
    {
     "data": {
      "text/plain": [
       "3"
      ]
     },
     "execution_count": 19,
     "metadata": {},
     "output_type": "execute_result"
    }
   ],
   "source": [
    "array3d.ndim"
   ]
  },
  {
   "cell_type": "code",
   "execution_count": 20,
   "id": "db5a608f-aab2-4c19-a29a-518b4fe98176",
   "metadata": {},
   "outputs": [
    {
     "data": {
      "text/plain": [
       "(2, 2, 4)"
      ]
     },
     "execution_count": 20,
     "metadata": {},
     "output_type": "execute_result"
    }
   ],
   "source": [
    "array3d.shape"
   ]
  },
  {
   "cell_type": "code",
   "execution_count": 21,
   "id": "d0c61f11-a3c7-428f-ae3a-2e6a395f606a",
   "metadata": {},
   "outputs": [],
   "source": [
    "# np.zeros() : This function creates a array filled with elements as zeros.\n",
    "# It is useful when you need an empty placeholder array with specific dimensions,\n",
    "# for example intializing weights for machine learning models, prepering matrices for computation."
   ]
  },
  {
   "cell_type": "code",
   "execution_count": 22,
   "id": "e9e4dc5c-277f-4054-999d-092b254d6538",
   "metadata": {},
   "outputs": [
    {
     "name": "stdout",
     "output_type": "stream",
     "text": [
      "[0. 0. 0. 0. 0.]\n"
     ]
    }
   ],
   "source": [
    "zeros_array = np.zeros(5)\n",
    "print(zeros_array)"
   ]
  },
  {
   "cell_type": "code",
   "execution_count": 23,
   "id": "b0d00aad-2f47-48e3-a7f5-91171ec6ef97",
   "metadata": {},
   "outputs": [
    {
     "data": {
      "text/plain": [
       "5"
      ]
     },
     "execution_count": 23,
     "metadata": {},
     "output_type": "execute_result"
    }
   ],
   "source": [
    "zeros_array.size"
   ]
  },
  {
   "cell_type": "code",
   "execution_count": 24,
   "id": "b9f2e949-f54e-4d73-b979-ac1e4a03882d",
   "metadata": {},
   "outputs": [
    {
     "data": {
      "text/plain": [
       "(5,)"
      ]
     },
     "execution_count": 24,
     "metadata": {},
     "output_type": "execute_result"
    }
   ],
   "source": [
    "zeros_array.shape"
   ]
  },
  {
   "cell_type": "code",
   "execution_count": 25,
   "id": "12194309-1eb8-4548-b5b9-62d41fe4960b",
   "metadata": {},
   "outputs": [
    {
     "data": {
      "text/plain": [
       "1"
      ]
     },
     "execution_count": 25,
     "metadata": {},
     "output_type": "execute_result"
    }
   ],
   "source": [
    "zeros_array.ndim"
   ]
  },
  {
   "cell_type": "code",
   "execution_count": 26,
   "id": "584324b1-a7b4-4cb0-b88f-6b073e3d551f",
   "metadata": {},
   "outputs": [
    {
     "name": "stdout",
     "output_type": "stream",
     "text": [
      "[[0. 0. 0. 0. 0.]\n",
      " [0. 0. 0. 0. 0.]\n",
      " [0. 0. 0. 0. 0.]]\n"
     ]
    }
   ],
   "source": [
    "zeros_2darray = np.zeros((3,5))\n",
    "print(zeros_2darray)"
   ]
  },
  {
   "cell_type": "code",
   "execution_count": 27,
   "id": "75903ce3-7a53-4e2e-a601-72f502c8d386",
   "metadata": {},
   "outputs": [
    {
     "data": {
      "text/plain": [
       "(3, 5)"
      ]
     },
     "execution_count": 27,
     "metadata": {},
     "output_type": "execute_result"
    }
   ],
   "source": [
    "zeros_2darray.shape"
   ]
  },
  {
   "cell_type": "code",
   "execution_count": 28,
   "id": "1f6f3509-65e6-4a0e-bbd1-4fb3d7dd33cc",
   "metadata": {},
   "outputs": [
    {
     "data": {
      "text/plain": [
       "2"
      ]
     },
     "execution_count": 28,
     "metadata": {},
     "output_type": "execute_result"
    }
   ],
   "source": [
    "zeros_2darray.ndim"
   ]
  },
  {
   "cell_type": "code",
   "execution_count": 29,
   "id": "f543ed8d-34fe-40e2-b2cf-dce4c50a45ec",
   "metadata": {},
   "outputs": [
    {
     "data": {
      "text/plain": [
       "15"
      ]
     },
     "execution_count": 29,
     "metadata": {},
     "output_type": "execute_result"
    }
   ],
   "source": [
    "zeros_2darray.size"
   ]
  },
  {
   "cell_type": "code",
   "execution_count": 30,
   "id": "a862a608-2d51-4b73-9cca-0a92fc74cb8c",
   "metadata": {},
   "outputs": [
    {
     "name": "stdout",
     "output_type": "stream",
     "text": [
      "[[[0. 0. 0. 0.]\n",
      "  [0. 0. 0. 0.]]\n",
      "\n",
      " [[0. 0. 0. 0.]\n",
      "  [0. 0. 0. 0.]]\n",
      "\n",
      " [[0. 0. 0. 0.]\n",
      "  [0. 0. 0. 0.]]]\n"
     ]
    }
   ],
   "source": [
    "zeros_3darray = np.zeros((3,2,4))\n",
    "print(zeros_3darray)"
   ]
  },
  {
   "cell_type": "code",
   "execution_count": 31,
   "id": "eb0114f9-53db-4716-90f6-b6a761c57ac1",
   "metadata": {},
   "outputs": [
    {
     "data": {
      "text/plain": [
       "3"
      ]
     },
     "execution_count": 31,
     "metadata": {},
     "output_type": "execute_result"
    }
   ],
   "source": [
    "zeros_3darray.ndim"
   ]
  },
  {
   "cell_type": "code",
   "execution_count": 32,
   "id": "2f968caf-3c2e-41fb-bfd8-edc548a7f3e8",
   "metadata": {},
   "outputs": [
    {
     "data": {
      "text/plain": [
       "24"
      ]
     },
     "execution_count": 32,
     "metadata": {},
     "output_type": "execute_result"
    }
   ],
   "source": [
    "zeros_3darray.size"
   ]
  },
  {
   "cell_type": "code",
   "execution_count": 33,
   "id": "60220497-0e3a-4057-a2c9-f7da8afa2b41",
   "metadata": {},
   "outputs": [
    {
     "data": {
      "text/plain": [
       "(3, 2, 4)"
      ]
     },
     "execution_count": 33,
     "metadata": {},
     "output_type": "execute_result"
    }
   ],
   "source": [
    "zeros_3darray.shape"
   ]
  },
  {
   "cell_type": "code",
   "execution_count": 34,
   "id": "6795ba93-343b-4aa0-9486-5323ca6278e3",
   "metadata": {},
   "outputs": [
    {
     "name": "stdout",
     "output_type": "stream",
     "text": [
      "[[1. 2. 3. 4. 5.]\n",
      " [0. 0. 0. 0. 0.]\n",
      " [0. 0. 0. 0. 0.]]\n"
     ]
    }
   ],
   "source": [
    "zeros_2darray[0] = [1,2,3,4,5]\n",
    "print(zeros_2darray)"
   ]
  },
  {
   "cell_type": "code",
   "execution_count": 35,
   "id": "bdbba7d1-cabd-4d72-9d6a-015511bc04fd",
   "metadata": {},
   "outputs": [
    {
     "data": {
      "text/plain": [
       "dtype('float64')"
      ]
     },
     "execution_count": 35,
     "metadata": {},
     "output_type": "execute_result"
    }
   ],
   "source": [
    "zeros_2darray.dtype"
   ]
  },
  {
   "cell_type": "code",
   "execution_count": 36,
   "id": "4b05832f-cba0-4042-92df-a96231c6f1bd",
   "metadata": {},
   "outputs": [],
   "source": [
    "array = np.zeros(4, dtype=int)"
   ]
  },
  {
   "cell_type": "code",
   "execution_count": 37,
   "id": "6071e250-a2e3-482b-9371-d10681976bbc",
   "metadata": {},
   "outputs": [
    {
     "name": "stdout",
     "output_type": "stream",
     "text": [
      "[0 0 0 0]\n"
     ]
    }
   ],
   "source": [
    "print(array)"
   ]
  },
  {
   "cell_type": "code",
   "execution_count": 38,
   "id": "e8df2d19-8a02-4478-8a8e-98e59ce47371",
   "metadata": {},
   "outputs": [],
   "source": [
    "# np.ones() : This function creates a array filled with elements as ones (1). Simirlar to np.zeros()\n",
    "# it can be used to intialize arrays of different shapes and data types.\n",
    "# This function is useful when you need an array of specific shape with a default value of one, often as placeholder."
   ]
  },
  {
   "cell_type": "code",
   "execution_count": 39,
   "id": "4d5f45a0-a94b-4a0d-9436-b02e39ecc29a",
   "metadata": {},
   "outputs": [
    {
     "name": "stdout",
     "output_type": "stream",
     "text": [
      "[1 1 1 1]\n"
     ]
    }
   ],
   "source": [
    "array_1d = np.ones(4, dtype=int)\n",
    "print(array_1d)"
   ]
  },
  {
   "cell_type": "code",
   "execution_count": 40,
   "id": "df7eb6d7-c284-46bb-aafb-3fcc5672db3a",
   "metadata": {},
   "outputs": [
    {
     "data": {
      "text/plain": [
       "1"
      ]
     },
     "execution_count": 40,
     "metadata": {},
     "output_type": "execute_result"
    }
   ],
   "source": [
    "array_1d.ndim"
   ]
  },
  {
   "cell_type": "code",
   "execution_count": 41,
   "id": "53258b2f-9b60-4279-a9dc-24f8a22482e6",
   "metadata": {},
   "outputs": [
    {
     "data": {
      "text/plain": [
       "4"
      ]
     },
     "execution_count": 41,
     "metadata": {},
     "output_type": "execute_result"
    }
   ],
   "source": [
    "array_1d.size"
   ]
  },
  {
   "cell_type": "code",
   "execution_count": 42,
   "id": "c6dea040-31b5-4919-b7d8-2a03d135db49",
   "metadata": {},
   "outputs": [
    {
     "data": {
      "text/plain": [
       "(4,)"
      ]
     },
     "execution_count": 42,
     "metadata": {},
     "output_type": "execute_result"
    }
   ],
   "source": [
    "array_1d.shape"
   ]
  },
  {
   "cell_type": "code",
   "execution_count": 43,
   "id": "81dc195c-230a-47d0-a40f-a57970e6d661",
   "metadata": {},
   "outputs": [
    {
     "data": {
      "text/plain": [
       "dtype('int64')"
      ]
     },
     "execution_count": 43,
     "metadata": {},
     "output_type": "execute_result"
    }
   ],
   "source": [
    "array_1d.dtype"
   ]
  },
  {
   "cell_type": "code",
   "execution_count": 44,
   "id": "325a3fb8-ebe5-45d2-be4c-5b70cd76b8c0",
   "metadata": {},
   "outputs": [
    {
     "name": "stdout",
     "output_type": "stream",
     "text": [
      "[[1 1 1 1]\n",
      " [1 1 1 1]\n",
      " [1 1 1 1]]\n"
     ]
    }
   ],
   "source": [
    "array_2d = np.ones((3,4), dtype=int)\n",
    "print(array_2d)"
   ]
  },
  {
   "cell_type": "code",
   "execution_count": 45,
   "id": "e60a90e5-c44a-404e-bcaf-661f69fc63e0",
   "metadata": {},
   "outputs": [
    {
     "data": {
      "text/plain": [
       "2"
      ]
     },
     "execution_count": 45,
     "metadata": {},
     "output_type": "execute_result"
    }
   ],
   "source": [
    "array_2d.ndim"
   ]
  },
  {
   "cell_type": "code",
   "execution_count": 46,
   "id": "cf1bce26-43b1-4d74-be6a-94e6e76f3d23",
   "metadata": {},
   "outputs": [
    {
     "data": {
      "text/plain": [
       "12"
      ]
     },
     "execution_count": 46,
     "metadata": {},
     "output_type": "execute_result"
    }
   ],
   "source": [
    "array_2d.size"
   ]
  },
  {
   "cell_type": "code",
   "execution_count": 47,
   "id": "4fa8d7d9-7f97-4751-af31-b8ae15872588",
   "metadata": {},
   "outputs": [
    {
     "data": {
      "text/plain": [
       "(3, 4)"
      ]
     },
     "execution_count": 47,
     "metadata": {},
     "output_type": "execute_result"
    }
   ],
   "source": [
    "array_2d.shape"
   ]
  },
  {
   "cell_type": "code",
   "execution_count": 48,
   "id": "9d1cd09a-7afc-4e64-b7c6-040583739077",
   "metadata": {},
   "outputs": [
    {
     "data": {
      "text/plain": [
       "dtype('int64')"
      ]
     },
     "execution_count": 48,
     "metadata": {},
     "output_type": "execute_result"
    }
   ],
   "source": [
    "array_2d.dtype"
   ]
  },
  {
   "cell_type": "code",
   "execution_count": 49,
   "id": "495d86ac-3bb7-416f-8004-5f207e8d4ce9",
   "metadata": {},
   "outputs": [
    {
     "name": "stdout",
     "output_type": "stream",
     "text": [
      "[[[1 1 1 1 1]\n",
      "  [1 1 1 1 1]\n",
      "  [1 1 1 1 1]]\n",
      "\n",
      " [[1 1 1 1 1]\n",
      "  [1 1 1 1 1]\n",
      "  [1 1 1 1 1]]\n",
      "\n",
      " [[1 1 1 1 1]\n",
      "  [1 1 1 1 1]\n",
      "  [1 1 1 1 1]]\n",
      "\n",
      " [[1 1 1 1 1]\n",
      "  [1 1 1 1 1]\n",
      "  [1 1 1 1 1]]]\n"
     ]
    }
   ],
   "source": [
    "array_3d = np.ones((4,3,5), dtype=int)\n",
    "print(array_3d)"
   ]
  },
  {
   "cell_type": "code",
   "execution_count": 50,
   "id": "f881f426-a9ab-45e9-abd1-72aa41e651e2",
   "metadata": {},
   "outputs": [
    {
     "data": {
      "text/plain": [
       "3"
      ]
     },
     "execution_count": 50,
     "metadata": {},
     "output_type": "execute_result"
    }
   ],
   "source": [
    "array_3d.ndim"
   ]
  },
  {
   "cell_type": "code",
   "execution_count": 51,
   "id": "edee684c-79f0-4a07-b9e6-4467207fcb9c",
   "metadata": {},
   "outputs": [
    {
     "data": {
      "text/plain": [
       "60"
      ]
     },
     "execution_count": 51,
     "metadata": {},
     "output_type": "execute_result"
    }
   ],
   "source": [
    "array_3d.size"
   ]
  },
  {
   "cell_type": "code",
   "execution_count": 52,
   "id": "f347a0a6-b053-4816-84d7-771a0c096c42",
   "metadata": {},
   "outputs": [
    {
     "data": {
      "text/plain": [
       "dtype('int64')"
      ]
     },
     "execution_count": 52,
     "metadata": {},
     "output_type": "execute_result"
    }
   ],
   "source": [
    "array_3d.dtype"
   ]
  },
  {
   "cell_type": "code",
   "execution_count": 53,
   "id": "535757ac-540f-41dc-b7af-00eb70e55641",
   "metadata": {},
   "outputs": [],
   "source": [
    "# np.eye() : It creates a 2d array (matrix) with ones on the main diagonal and zeros everywher else.\n",
    "# This matrix is called identity matrix. Identity matrices are widely used in linear algebra."
   ]
  },
  {
   "cell_type": "code",
   "execution_count": 54,
   "id": "98141a87-3972-407d-963c-59ff45ca747e",
   "metadata": {},
   "outputs": [
    {
     "name": "stdout",
     "output_type": "stream",
     "text": [
      "[[1. 0. 0.]\n",
      " [0. 1. 0.]\n",
      " [0. 0. 1.]]\n"
     ]
    }
   ],
   "source": [
    "identity_matrix = np.eye(3,3)\n",
    "print(identity_matrix)"
   ]
  },
  {
   "cell_type": "code",
   "execution_count": 55,
   "id": "363ba4cb-4877-4e92-87dc-849c059ffe40",
   "metadata": {},
   "outputs": [
    {
     "name": "stdout",
     "output_type": "stream",
     "text": [
      "[[0 0 0 0]\n",
      " [0 0 0 0]\n",
      " [1 0 0 0]\n",
      " [0 1 0 0]]\n"
     ]
    }
   ],
   "source": [
    "matrix_eye = np.eye(4,4, k=-2, dtype=int)\n",
    "print(matrix_eye)"
   ]
  },
  {
   "cell_type": "code",
   "execution_count": 56,
   "id": "bf94cf60-417f-41c7-9594-6b670c60a021",
   "metadata": {},
   "outputs": [
    {
     "data": {
      "text/plain": [
       "16"
      ]
     },
     "execution_count": 56,
     "metadata": {},
     "output_type": "execute_result"
    }
   ],
   "source": [
    "matrix_eye.size"
   ]
  },
  {
   "cell_type": "code",
   "execution_count": 57,
   "id": "2148c620-1322-4a4c-a9d1-7bab05671e4d",
   "metadata": {},
   "outputs": [
    {
     "data": {
      "text/plain": [
       "2"
      ]
     },
     "execution_count": 57,
     "metadata": {},
     "output_type": "execute_result"
    }
   ],
   "source": [
    "matrix_eye.ndim"
   ]
  },
  {
   "cell_type": "code",
   "execution_count": 58,
   "id": "6f3894a9-865c-46e0-a534-e89bc4e84981",
   "metadata": {},
   "outputs": [
    {
     "data": {
      "text/plain": [
       "(4, 4)"
      ]
     },
     "execution_count": 58,
     "metadata": {},
     "output_type": "execute_result"
    }
   ],
   "source": [
    "matrix_eye.shape"
   ]
  },
  {
   "cell_type": "code",
   "execution_count": 59,
   "id": "6bc11b06-2399-4ebb-af5c-f2005e5d8ca1",
   "metadata": {},
   "outputs": [
    {
     "data": {
      "text/plain": [
       "dtype('int64')"
      ]
     },
     "execution_count": 59,
     "metadata": {},
     "output_type": "execute_result"
    }
   ],
   "source": [
    "matrix_eye.dtype"
   ]
  },
  {
   "cell_type": "code",
   "execution_count": 60,
   "id": "072fc463-f678-42f7-a6fb-f049837532ea",
   "metadata": {},
   "outputs": [],
   "source": [
    "# np.full() : This function creates an array filled with specified value, which can be any number you choose.\n",
    "# This function is similar to np.zeros() and np.ones(), \n",
    "# but it gives you more control by allowing you to define any initial vlaue for each elment in the array."
   ]
  },
  {
   "cell_type": "code",
   "execution_count": 61,
   "id": "d2b71968-9669-48b3-aeed-53254b72071e",
   "metadata": {},
   "outputs": [
    {
     "name": "stdout",
     "output_type": "stream",
     "text": [
      "[8 8 8 8]\n"
     ]
    }
   ],
   "source": [
    "full_array = np.full(4, 8)\n",
    "print(full_array)"
   ]
  },
  {
   "cell_type": "code",
   "execution_count": 62,
   "id": "29caa215-e13a-4a12-a2a9-207a3534299c",
   "metadata": {},
   "outputs": [
    {
     "name": "stdout",
     "output_type": "stream",
     "text": [
      "[[2. 2. 2. 2.]\n",
      " [2. 2. 2. 2.]\n",
      " [2. 2. 2. 2.]]\n"
     ]
    }
   ],
   "source": [
    "full_2darray = np.full((3,4), 2, dtype=float)\n",
    "print(full_2darray)"
   ]
  },
  {
   "cell_type": "code",
   "execution_count": 63,
   "id": "dbd55407-55dd-4441-9600-bda1e461f7a3",
   "metadata": {},
   "outputs": [
    {
     "data": {
      "text/plain": [
       "2"
      ]
     },
     "execution_count": 63,
     "metadata": {},
     "output_type": "execute_result"
    }
   ],
   "source": [
    "full_2darray.ndim"
   ]
  },
  {
   "cell_type": "code",
   "execution_count": 64,
   "id": "98da4340-e8b0-4254-8402-ed8f28613258",
   "metadata": {},
   "outputs": [
    {
     "data": {
      "text/plain": [
       "12"
      ]
     },
     "execution_count": 64,
     "metadata": {},
     "output_type": "execute_result"
    }
   ],
   "source": [
    "full_2darray.size"
   ]
  },
  {
   "cell_type": "code",
   "execution_count": 65,
   "id": "f92e5d79-7a1e-4762-b3d3-031a7be5805a",
   "metadata": {},
   "outputs": [
    {
     "data": {
      "text/plain": [
       "dtype('float64')"
      ]
     },
     "execution_count": 65,
     "metadata": {},
     "output_type": "execute_result"
    }
   ],
   "source": [
    "full_2darray.dtype"
   ]
  },
  {
   "cell_type": "code",
   "execution_count": 66,
   "id": "dc352670-750b-40b3-bee6-063dd5e77fbe",
   "metadata": {},
   "outputs": [
    {
     "name": "stdout",
     "output_type": "stream",
     "text": [
      "[[[9. 9. 9.]\n",
      "  [9. 9. 9.]]\n",
      "\n",
      " [[9. 9. 9.]\n",
      "  [9. 9. 9.]]\n",
      "\n",
      " [[9. 9. 9.]\n",
      "  [9. 9. 9.]]\n",
      "\n",
      " [[9. 9. 9.]\n",
      "  [9. 9. 9.]]]\n"
     ]
    }
   ],
   "source": [
    "full_3darray = np.full((4, 2,3), 9, dtype=float)\n",
    "print(full_3darray)"
   ]
  },
  {
   "cell_type": "code",
   "execution_count": 67,
   "id": "f1c2cc8c-ad32-4690-a121-b39f3eeebdb3",
   "metadata": {},
   "outputs": [
    {
     "data": {
      "text/plain": [
       "3"
      ]
     },
     "execution_count": 67,
     "metadata": {},
     "output_type": "execute_result"
    }
   ],
   "source": [
    "full_3darray.ndim"
   ]
  },
  {
   "cell_type": "code",
   "execution_count": 68,
   "id": "74794c14-d6ef-4706-9f94-592ccd6b7a1c",
   "metadata": {},
   "outputs": [
    {
     "data": {
      "text/plain": [
       "24"
      ]
     },
     "execution_count": 68,
     "metadata": {},
     "output_type": "execute_result"
    }
   ],
   "source": [
    "full_3darray.size"
   ]
  },
  {
   "cell_type": "code",
   "execution_count": 69,
   "id": "56fa46fe-8938-4d0c-aa00-e655dfb2717f",
   "metadata": {},
   "outputs": [
    {
     "data": {
      "text/plain": [
       "dtype('float64')"
      ]
     },
     "execution_count": 69,
     "metadata": {},
     "output_type": "execute_result"
    }
   ],
   "source": [
    "full_3darray.dtype"
   ]
  },
  {
   "cell_type": "code",
   "execution_count": 70,
   "id": "6f9f5be0-9233-4cf8-82bf-2960835b7094",
   "metadata": {},
   "outputs": [],
   "source": [
    "# np.arange() : This function creates an array with evenly spaced values within a given interval.\n",
    "# It is similar to Python's built-in range() function, but returns an array instead of a list,\n",
    "# and allows floating point values as well as integers.\n",
    "# np.arange() is often used for generating squences of numbers, \n",
    "# which can be particularly useful for indexing, creating time intervals, or generating test data.\n",
    "\n",
    "# np.arange(start, stop, step, dtype) --> where stop is exclusive or not included in the array."
   ]
  },
  {
   "cell_type": "code",
   "execution_count": 71,
   "id": "9ba10af8-be84-4054-8141-7faf487a0a84",
   "metadata": {},
   "outputs": [
    {
     "name": "stdout",
     "output_type": "stream",
     "text": [
      "[0 1 2 3 4]\n"
     ]
    }
   ],
   "source": [
    "arr = np.arange(5)\n",
    "print(arr)"
   ]
  },
  {
   "cell_type": "code",
   "execution_count": 72,
   "id": "64787eb4-096a-423d-b4ac-434270247b4e",
   "metadata": {},
   "outputs": [
    {
     "name": "stdout",
     "output_type": "stream",
     "text": [
      "[5 6 7 8 9]\n"
     ]
    }
   ],
   "source": [
    "arr1 = np.arange(5, 10)\n",
    "print(arr1)"
   ]
  },
  {
   "cell_type": "code",
   "execution_count": 73,
   "id": "7b29a710-97af-4ed4-95ad-aef20571eb3c",
   "metadata": {},
   "outputs": [
    {
     "name": "stdout",
     "output_type": "stream",
     "text": [
      "[0 4 8]\n"
     ]
    }
   ],
   "source": [
    "arr3 = np.arange(0, 10, 4)\n",
    "print(arr3)"
   ]
  },
  {
   "cell_type": "code",
   "execution_count": 74,
   "id": "7ffcf39d-d399-4123-811d-dbd15c52ab12",
   "metadata": {},
   "outputs": [
    {
     "name": "stdout",
     "output_type": "stream",
     "text": [
      "[0.  0.2 0.4 0.6 0.8]\n"
     ]
    }
   ],
   "source": [
    "arr4 = np.arange(0, 1, 0.2)\n",
    "print(arr4)"
   ]
  },
  {
   "cell_type": "code",
   "execution_count": 75,
   "id": "a5beed83-db4a-4f7b-b521-49ecba8ebf59",
   "metadata": {},
   "outputs": [
    {
     "name": "stdout",
     "output_type": "stream",
     "text": [
      "[ 2.  5.  8. 11. 14. 17.]\n"
     ]
    }
   ],
   "source": [
    "arr5 = np.arange(2, 20, 3, dtype = float)\n",
    "print(arr5)"
   ]
  },
  {
   "cell_type": "code",
   "execution_count": 76,
   "id": "12973ff6-20a5-48f1-a53b-f0bd394e3ac9",
   "metadata": {},
   "outputs": [
    {
     "data": {
      "text/plain": [
       "6"
      ]
     },
     "execution_count": 76,
     "metadata": {},
     "output_type": "execute_result"
    }
   ],
   "source": [
    "arr5.size"
   ]
  },
  {
   "cell_type": "code",
   "execution_count": 77,
   "id": "634def0c-99e9-45c2-8e94-ffcfe56ac6d9",
   "metadata": {},
   "outputs": [
    {
     "data": {
      "text/plain": [
       "1"
      ]
     },
     "execution_count": 77,
     "metadata": {},
     "output_type": "execute_result"
    }
   ],
   "source": [
    "arr5.ndim"
   ]
  },
  {
   "cell_type": "code",
   "execution_count": 78,
   "id": "fd2ee6d4-bfae-4bb9-8d6a-20176f33edb6",
   "metadata": {},
   "outputs": [
    {
     "data": {
      "text/plain": [
       "(6,)"
      ]
     },
     "execution_count": 78,
     "metadata": {},
     "output_type": "execute_result"
    }
   ],
   "source": [
    "arr5.shape"
   ]
  },
  {
   "cell_type": "code",
   "execution_count": 79,
   "id": "954e4950-9ffb-49f4-83ff-013a9136b2cc",
   "metadata": {},
   "outputs": [
    {
     "data": {
      "text/plain": [
       "dtype('float64')"
      ]
     },
     "execution_count": 79,
     "metadata": {},
     "output_type": "execute_result"
    }
   ],
   "source": [
    "arr5.dtype"
   ]
  },
  {
   "cell_type": "code",
   "execution_count": null,
   "id": "038c5e87-9020-41bb-990c-f7360b339fe1",
   "metadata": {},
   "outputs": [],
   "source": [
    "# np.linspace() : This function generates an array of evenly spaced numbers over a specified intervalue.\n",
    "# np.linspace() uses a specific step size to generates a defined number of points between a start and stop value.\n",
    "# which is useful when you want a fixed number of samples between two values, especial for continous data."
   ]
  },
  {
   "cell_type": "code",
   "execution_count": 82,
   "id": "b5dbc323-1ba3-4aeb-b64c-b5ac523ab124",
   "metadata": {},
   "outputs": [
    {
     "name": "stdout",
     "output_type": "stream",
     "text": [
      "(array([ 0. ,  2.5,  5. ,  7.5, 10. ]), np.float64(2.5))\n"
     ]
    }
   ],
   "source": [
    "arr1 = np.linspace(0, 10, num = 5, retstep = True)\n",
    "print(arr1)"
   ]
  },
  {
   "cell_type": "code",
   "execution_count": 86,
   "id": "6377b28f-fd67-4b43-853b-33c81baade89",
   "metadata": {},
   "outputs": [
    {
     "name": "stdout",
     "output_type": "stream",
     "text": [
      "[ 5.          6.66666667  8.33333333 10.         11.66666667 13.33333333\n",
      " 15.         16.66666667 18.33333333 20.        ]\n"
     ]
    }
   ],
   "source": [
    "arr2 = np.linspace(5, 20, num = 10)\n",
    "print(arr2)"
   ]
  },
  {
   "cell_type": "code",
   "execution_count": 87,
   "id": "e4cb5bf3-f7cc-4126-b12a-932f12aeacab",
   "metadata": {},
   "outputs": [
    {
     "data": {
      "text/plain": [
       "10"
      ]
     },
     "execution_count": 87,
     "metadata": {},
     "output_type": "execute_result"
    }
   ],
   "source": [
    "arr2.size"
   ]
  },
  {
   "cell_type": "code",
   "execution_count": 88,
   "id": "0b8a33c1-44c3-4669-a9d5-8242404b5828",
   "metadata": {},
   "outputs": [
    {
     "data": {
      "text/plain": [
       "(10,)"
      ]
     },
     "execution_count": 88,
     "metadata": {},
     "output_type": "execute_result"
    }
   ],
   "source": [
    "arr2.shape"
   ]
  },
  {
   "cell_type": "code",
   "execution_count": 89,
   "id": "6bb6cbc9-c1fe-4083-b812-123c19ffa995",
   "metadata": {},
   "outputs": [
    {
     "data": {
      "text/plain": [
       "1"
      ]
     },
     "execution_count": 89,
     "metadata": {},
     "output_type": "execute_result"
    }
   ],
   "source": [
    "arr2.ndim"
   ]
  },
  {
   "cell_type": "code",
   "execution_count": 90,
   "id": "e8203f99-0d5a-4ee7-888c-55ba615a9c5e",
   "metadata": {},
   "outputs": [
    {
     "name": "stdout",
     "output_type": "stream",
     "text": [
      "[ 0  1  3  5  6  8 10 11 13 15]\n"
     ]
    }
   ],
   "source": [
    "arr3 = np.linspace(0, 15, num= 10, dtype=int)\n",
    "print(arr3)"
   ]
  },
  {
   "cell_type": "code",
   "execution_count": null,
   "id": "dd58bb39-d978-4a4c-b00d-9ee5b5bf9026",
   "metadata": {},
   "outputs": [],
   "source": [
    "# np.random module: This module provides various functions to generate random numbers, arrays, and samples from different distribution.\n",
    "# This is essential in data science, machine learning, and any applications that require randomness sampling."
   ]
  },
  {
   "cell_type": "code",
   "execution_count": 95,
   "id": "a1784f7b-8038-4568-8aa7-9ebdbefced5c",
   "metadata": {},
   "outputs": [
    {
     "name": "stdout",
     "output_type": "stream",
     "text": [
      "[[0.0312345  0.30416259 0.48468407]\n",
      " [0.9803046  0.58255991 0.86055469]]\n"
     ]
    }
   ],
   "source": [
    "rand_arr = np.random.rand(2,3)\n",
    "print(rand_arr)"
   ]
  },
  {
   "cell_type": "code",
   "execution_count": 96,
   "id": "4b78bb0b-b84c-4d41-b6cd-74dc3a02f403",
   "metadata": {},
   "outputs": [
    {
     "data": {
      "text/plain": [
       "2"
      ]
     },
     "execution_count": 96,
     "metadata": {},
     "output_type": "execute_result"
    }
   ],
   "source": [
    "rand_arr.ndim"
   ]
  },
  {
   "cell_type": "code",
   "execution_count": 99,
   "id": "45789317-ff92-4ea7-aa12-3f254ee2a9d1",
   "metadata": {},
   "outputs": [],
   "source": [
    "randn_arr = np.random.randn(3,4)"
   ]
  },
  {
   "cell_type": "code",
   "execution_count": 100,
   "id": "fa500030-8dcf-4287-99cc-780b65587a9e",
   "metadata": {},
   "outputs": [
    {
     "name": "stdout",
     "output_type": "stream",
     "text": [
      "[[ 0.70179542  0.29919615 -0.23429504 -0.14843474]\n",
      " [ 0.44015855  1.77294339  0.17643682 -0.13894433]\n",
      " [ 0.81399505  0.57654775 -0.47721034  1.90357109]]\n"
     ]
    }
   ],
   "source": [
    "print(randn_arr)"
   ]
  },
  {
   "cell_type": "code",
   "execution_count": 101,
   "id": "f37fde08-3fe2-43b8-8c46-345ef67bb2b7",
   "metadata": {},
   "outputs": [
    {
     "data": {
      "text/plain": [
       "2"
      ]
     },
     "execution_count": 101,
     "metadata": {},
     "output_type": "execute_result"
    }
   ],
   "source": [
    "randn_arr.ndim"
   ]
  },
  {
   "cell_type": "code",
   "execution_count": 104,
   "id": "07f2a8a2-15b5-4497-b549-c26d704f873e",
   "metadata": {},
   "outputs": [
    {
     "name": "stdout",
     "output_type": "stream",
     "text": [
      "[[[1 1]\n",
      "  [6 7]]\n",
      "\n",
      " [[0 7]\n",
      "  [3 5]]]\n"
     ]
    }
   ],
   "source": [
    "randint_arr = np.random.randint(0, 10, size = (2,2,2))\n",
    "print(randint_arr)"
   ]
  },
  {
   "cell_type": "code",
   "execution_count": 105,
   "id": "4ad1850f-540a-4f79-a221-2b8cf249c882",
   "metadata": {},
   "outputs": [
    {
     "data": {
      "text/plain": [
       "3"
      ]
     },
     "execution_count": 105,
     "metadata": {},
     "output_type": "execute_result"
    }
   ],
   "source": [
    "randint_arr.ndim"
   ]
  },
  {
   "cell_type": "code",
   "execution_count": null,
   "id": "28ba308a-988f-4d97-bbad-8de77b18b65e",
   "metadata": {},
   "outputs": [],
   "source": []
  }
 ],
 "metadata": {
  "kernelspec": {
   "display_name": "Python 3 (ipykernel)",
   "language": "python",
   "name": "python3"
  },
  "language_info": {
   "codemirror_mode": {
    "name": "ipython",
    "version": 3
   },
   "file_extension": ".py",
   "mimetype": "text/x-python",
   "name": "python",
   "nbconvert_exporter": "python",
   "pygments_lexer": "ipython3",
   "version": "3.12.6"
  }
 },
 "nbformat": 4,
 "nbformat_minor": 5
}
