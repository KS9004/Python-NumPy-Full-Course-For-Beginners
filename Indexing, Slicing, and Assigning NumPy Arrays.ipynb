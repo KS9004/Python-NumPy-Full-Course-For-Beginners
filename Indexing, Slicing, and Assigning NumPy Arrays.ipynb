{
 "cells": [
  {
   "cell_type": "code",
   "execution_count": null,
   "id": "0d3458c0-8295-43fc-b1f4-0fed18f1b094",
   "metadata": {},
   "outputs": [],
   "source": [
    "# Indexing: It allows you to access and manipulate individuals elements, rows, columns, and even sub-arrays within array."
   ]
  },
  {
   "cell_type": "code",
   "execution_count": 2,
   "id": "487124ec-322f-4e9a-93ac-2e934b0f3642",
   "metadata": {},
   "outputs": [
    {
     "name": "stdout",
     "output_type": "stream",
     "text": [
      "[1 2 3 4 5 6 7 8 9]\n"
     ]
    }
   ],
   "source": [
    "import numpy as np\n",
    "array = np.arange(1, 10)\n",
    "print(array)"
   ]
  },
  {
   "cell_type": "code",
   "execution_count": 5,
   "id": "04462c6b-d8c3-47df-a445-ab175d48d936",
   "metadata": {},
   "outputs": [
    {
     "data": {
      "text/plain": [
       "np.int64(3)"
      ]
     },
     "execution_count": 5,
     "metadata": {},
     "output_type": "execute_result"
    }
   ],
   "source": [
    "array[2]"
   ]
  },
  {
   "cell_type": "code",
   "execution_count": 6,
   "id": "cfafd328-ce7c-456c-a57e-4a301919d24a",
   "metadata": {},
   "outputs": [
    {
     "name": "stdout",
     "output_type": "stream",
     "text": [
      "[[ 7 13  6]\n",
      " [13  9  3]]\n"
     ]
    }
   ],
   "source": [
    "array_2d = np.random.randint(1,20,(2,3))\n",
    "print(array_2d)"
   ]
  },
  {
   "cell_type": "code",
   "execution_count": 11,
   "id": "b75066bd-e6ee-46d1-a8bb-2f67e4982da0",
   "metadata": {},
   "outputs": [
    {
     "data": {
      "text/plain": [
       "array([6, 3], dtype=int32)"
      ]
     },
     "execution_count": 11,
     "metadata": {},
     "output_type": "execute_result"
    }
   ],
   "source": [
    "array_2d[:,2]"
   ]
  },
  {
   "cell_type": "code",
   "execution_count": 17,
   "id": "910c2812-75cd-4e0c-aefd-db91950c1e3e",
   "metadata": {},
   "outputs": [
    {
     "data": {
      "text/plain": [
       "np.int32(3)"
      ]
     },
     "execution_count": 17,
     "metadata": {},
     "output_type": "execute_result"
    }
   ],
   "source": [
    "array_2d[1,2]"
   ]
  },
  {
   "cell_type": "code",
   "execution_count": 18,
   "id": "8337e50d-294d-4b71-8aa3-c3d44480a9b0",
   "metadata": {},
   "outputs": [
    {
     "name": "stdout",
     "output_type": "stream",
     "text": [
      "[1 2 3 4 5 6 7 8 9]\n"
     ]
    }
   ],
   "source": [
    "print(array)"
   ]
  },
  {
   "cell_type": "code",
   "execution_count": 19,
   "id": "eecdffaf-db8f-4f79-bfc6-260454c4b7fb",
   "metadata": {},
   "outputs": [
    {
     "data": {
      "text/plain": [
       "np.int64(9)"
      ]
     },
     "execution_count": 19,
     "metadata": {},
     "output_type": "execute_result"
    }
   ],
   "source": [
    "array[-1]"
   ]
  },
  {
   "cell_type": "code",
   "execution_count": 20,
   "id": "5c1a40b7-9270-4689-baa9-f1fb2d034e4a",
   "metadata": {},
   "outputs": [
    {
     "data": {
      "text/plain": [
       "np.int64(8)"
      ]
     },
     "execution_count": 20,
     "metadata": {},
     "output_type": "execute_result"
    }
   ],
   "source": [
    "array[-2]"
   ]
  },
  {
   "cell_type": "code",
   "execution_count": 21,
   "id": "e86e19aa-5c24-4917-920b-86ac700e616d",
   "metadata": {},
   "outputs": [
    {
     "data": {
      "text/plain": [
       "array([[ 7, 13,  6],\n",
       "       [13,  9,  3]], dtype=int32)"
      ]
     },
     "execution_count": 21,
     "metadata": {},
     "output_type": "execute_result"
    }
   ],
   "source": [
    "array_2d"
   ]
  },
  {
   "cell_type": "code",
   "execution_count": 28,
   "id": "45236ef1-9a3b-4f8b-a7bb-5ad96391cc09",
   "metadata": {},
   "outputs": [
    {
     "data": {
      "text/plain": [
       "np.int32(7)"
      ]
     },
     "execution_count": 28,
     "metadata": {},
     "output_type": "execute_result"
    }
   ],
   "source": [
    "array_2d[-2,-3]"
   ]
  },
  {
   "cell_type": "code",
   "execution_count": null,
   "id": "08880fb9-e6c6-4277-9e7c-d205b130eec4",
   "metadata": {},
   "outputs": [],
   "source": [
    "# slicing: It allows you to access a range of elements in an array.\n",
    "# It has format : array[start : stop : step ]\n",
    "# start : It is the index to start\n",
    "# stop : It is the index to stop at (exclusive)--> not included in the array\n",
    "# step : It is the interval between elements or gap between elements."
   ]
  },
  {
   "cell_type": "code",
   "execution_count": 29,
   "id": "a37621a8-cc90-4ee8-9b51-3227206c9f55",
   "metadata": {},
   "outputs": [
    {
     "name": "stdout",
     "output_type": "stream",
     "text": [
      "[1 2 3 4 5 6 7 8 9]\n"
     ]
    }
   ],
   "source": [
    "print(array)"
   ]
  },
  {
   "cell_type": "code",
   "execution_count": 30,
   "id": "aa8286ba-4e9c-44ca-850d-db8f18c5dac2",
   "metadata": {},
   "outputs": [
    {
     "data": {
      "text/plain": [
       "array([2, 3, 4, 5, 6, 7, 8, 9])"
      ]
     },
     "execution_count": 30,
     "metadata": {},
     "output_type": "execute_result"
    }
   ],
   "source": [
    "array[1:]"
   ]
  },
  {
   "cell_type": "code",
   "execution_count": 31,
   "id": "57b58edb-d604-4969-ae99-8c5a884ff511",
   "metadata": {},
   "outputs": [
    {
     "data": {
      "text/plain": [
       "array([6, 7, 8, 9])"
      ]
     },
     "execution_count": 31,
     "metadata": {},
     "output_type": "execute_result"
    }
   ],
   "source": [
    "array[5:]"
   ]
  },
  {
   "cell_type": "code",
   "execution_count": 33,
   "id": "c2883002-ea5d-437d-b2c6-42cc8b2e7cc4",
   "metadata": {},
   "outputs": [
    {
     "data": {
      "text/plain": [
       "array([2, 3, 4, 5])"
      ]
     },
     "execution_count": 33,
     "metadata": {},
     "output_type": "execute_result"
    }
   ],
   "source": [
    "array[1:5]"
   ]
  },
  {
   "cell_type": "code",
   "execution_count": 34,
   "id": "05c5efed-8474-41a6-bfea-4d91b3d3154a",
   "metadata": {},
   "outputs": [
    {
     "data": {
      "text/plain": [
       "array([5, 6, 7, 8])"
      ]
     },
     "execution_count": 34,
     "metadata": {},
     "output_type": "execute_result"
    }
   ],
   "source": [
    "array[4:8]"
   ]
  },
  {
   "cell_type": "code",
   "execution_count": 36,
   "id": "d117bb23-b715-4c69-bbf8-2730f58349a2",
   "metadata": {},
   "outputs": [
    {
     "data": {
      "text/plain": [
       "array([1, 4, 7])"
      ]
     },
     "execution_count": 36,
     "metadata": {},
     "output_type": "execute_result"
    }
   ],
   "source": [
    "array[::3]"
   ]
  },
  {
   "cell_type": "code",
   "execution_count": 37,
   "id": "361ada03-5b57-4ee7-9f3f-d03460cbae56",
   "metadata": {},
   "outputs": [
    {
     "name": "stdout",
     "output_type": "stream",
     "text": [
      "[[ 0  1  2  3  4]\n",
      " [ 5  6  7  8  9]\n",
      " [10 11 12 13 14]\n",
      " [15 16 17 18 19]\n",
      " [20 21 22 23 24]\n",
      " [25 26 27 28 29]]\n"
     ]
    }
   ],
   "source": [
    "arr_value = np.arange(30).reshape(6,5)\n",
    "print(arr_value)"
   ]
  },
  {
   "cell_type": "code",
   "execution_count": 45,
   "id": "f55b69ab-544d-48d0-bd78-a955c5d1bcaa",
   "metadata": {},
   "outputs": [
    {
     "data": {
      "text/plain": [
       "array([[23, 24],\n",
       "       [28, 29]])"
      ]
     },
     "execution_count": 45,
     "metadata": {},
     "output_type": "execute_result"
    }
   ],
   "source": [
    "arr_value[4:,3:]"
   ]
  },
  {
   "cell_type": "code",
   "execution_count": null,
   "id": "75288ce6-c99b-4948-8e4a-0d24a852b279",
   "metadata": {},
   "outputs": [],
   "source": [
    "# Assign value to Numpy arrays"
   ]
  },
  {
   "cell_type": "code",
   "execution_count": 46,
   "id": "db043f4e-04be-45bf-b883-bb0823a25cc9",
   "metadata": {},
   "outputs": [
    {
     "name": "stdout",
     "output_type": "stream",
     "text": [
      "[1 2 3 4 5 6]\n"
     ]
    }
   ],
   "source": [
    "arr_variable = np.array([1,2,3,4,5,6])\n",
    "print(arr_variable)"
   ]
  },
  {
   "cell_type": "code",
   "execution_count": 47,
   "id": "ad7ea630-b884-414c-87f6-9f1f3bcc309e",
   "metadata": {},
   "outputs": [],
   "source": [
    "arr_variable[1] = 4"
   ]
  },
  {
   "cell_type": "code",
   "execution_count": 48,
   "id": "75479255-2229-4c07-a72a-19c226c1bfb1",
   "metadata": {},
   "outputs": [
    {
     "data": {
      "text/plain": [
       "array([1, 4, 3, 4, 5, 6])"
      ]
     },
     "execution_count": 48,
     "metadata": {},
     "output_type": "execute_result"
    }
   ],
   "source": [
    "arr_variable"
   ]
  },
  {
   "cell_type": "code",
   "execution_count": 49,
   "id": "b504587c-5426-4e54-a597-c43c8170027a",
   "metadata": {},
   "outputs": [
    {
     "name": "stdout",
     "output_type": "stream",
     "text": [
      "[ 1  4  3  4  5 10]\n"
     ]
    }
   ],
   "source": [
    "arr_variable[5] = 10\n",
    "print(arr_variable)"
   ]
  },
  {
   "cell_type": "code",
   "execution_count": 50,
   "id": "7187130d-806e-41bf-b1d2-4ac558c6cc2d",
   "metadata": {},
   "outputs": [
    {
     "name": "stdout",
     "output_type": "stream",
     "text": [
      "[ 1  0  0  0  5 10]\n"
     ]
    }
   ],
   "source": [
    "arr_variable[1:4] = 0\n",
    "print(arr_variable)"
   ]
  },
  {
   "cell_type": "code",
   "execution_count": 51,
   "id": "7393896d-fea3-4137-8679-3025c90497eb",
   "metadata": {},
   "outputs": [
    {
     "name": "stdout",
     "output_type": "stream",
     "text": [
      "[ 1 12 13 14  5 10]\n"
     ]
    }
   ],
   "source": [
    "arr_variable[1:4] = 12,13,14\n",
    "print(arr_variable)"
   ]
  },
  {
   "cell_type": "code",
   "execution_count": 57,
   "id": "d78db585-30f1-4d42-8892-147d7a81d9ef",
   "metadata": {},
   "outputs": [
    {
     "name": "stdout",
     "output_type": "stream",
     "text": [
      "[[10 11 12 13 14]\n",
      " [15 16 17 18 19]]\n"
     ]
    }
   ],
   "source": [
    "arr_var2d = np.arange(10,20).reshape(2,5)\n",
    "print(arr_var2d)"
   ]
  },
  {
   "cell_type": "code",
   "execution_count": 60,
   "id": "af3a91e6-84a3-4db9-ba02-0c28f0408d68",
   "metadata": {},
   "outputs": [],
   "source": [
    "arr_var2d[0,1] = 20"
   ]
  },
  {
   "cell_type": "code",
   "execution_count": 61,
   "id": "ffaa51c7-95ba-4fd2-b9d0-e0f2ae32438d",
   "metadata": {},
   "outputs": [
    {
     "data": {
      "text/plain": [
       "array([[10, 20, 12, 13, 14],\n",
       "       [15, 16, 17, 18, 19]])"
      ]
     },
     "execution_count": 61,
     "metadata": {},
     "output_type": "execute_result"
    }
   ],
   "source": [
    "\n",
    "arr_var2d"
   ]
  },
  {
   "cell_type": "code",
   "execution_count": 63,
   "id": "4ea691ae-61ce-4848-bbdf-90a03d7e8da5",
   "metadata": {},
   "outputs": [
    {
     "data": {
      "text/plain": [
       "array([[ 1,  2,  3,  4,  5],\n",
       "       [15, 16, 17, 18, 19]])"
      ]
     },
     "execution_count": 63,
     "metadata": {},
     "output_type": "execute_result"
    }
   ],
   "source": [
    "arr_var2d[0] = 1,2,3,4,5\n",
    "arr_var2d"
   ]
  },
  {
   "cell_type": "code",
   "execution_count": 64,
   "id": "0e45f60a-2d54-4c81-b73b-dbbb1fa8d271",
   "metadata": {},
   "outputs": [
    {
     "data": {
      "text/plain": [
       "array([[ 1,  2,  3,  4, 10],\n",
       "       [15, 16, 17, 18, 20]])"
      ]
     },
     "execution_count": 64,
     "metadata": {},
     "output_type": "execute_result"
    }
   ],
   "source": [
    "arr_var2d[:,4] = 10, 20\n",
    "arr_var2d"
   ]
  },
  {
   "cell_type": "code",
   "execution_count": null,
   "id": "c84d685c-10e5-40ef-8737-1ae0c020cb30",
   "metadata": {},
   "outputs": [],
   "source": [
    "# fancy indexing: It allows you to access multiple elements of an array using an array of indices.\n",
    "# Instead of using simple integers or slices, you can specify arrays or list of indices to access elements."
   ]
  },
  {
   "cell_type": "code",
   "execution_count": 65,
   "id": "058268b0-c64d-421d-944a-4340f7e8a2c4",
   "metadata": {},
   "outputs": [
    {
     "data": {
      "text/plain": [
       "array([10, 20, 30, 40, 50])"
      ]
     },
     "execution_count": 65,
     "metadata": {},
     "output_type": "execute_result"
    }
   ],
   "source": [
    "fancy_array = np.array([10, 20, 30, 40, 50])\n",
    "fancy_array"
   ]
  },
  {
   "cell_type": "code",
   "execution_count": 68,
   "id": "70aa0209-2b04-4a51-905d-103cd7ec1dca",
   "metadata": {},
   "outputs": [
    {
     "data": {
      "text/plain": [
       "array([20, 40, 50])"
      ]
     },
     "execution_count": 68,
     "metadata": {},
     "output_type": "execute_result"
    }
   ],
   "source": [
    "fancy_array[[1,3,4]]"
   ]
  },
  {
   "cell_type": "code",
   "execution_count": 75,
   "id": "a90efb24-e2f8-4bec-b686-307e740b86e0",
   "metadata": {},
   "outputs": [
    {
     "name": "stdout",
     "output_type": "stream",
     "text": [
      "[[7 8 1]\n",
      " [7 7 7]\n",
      " [4 5 5]]\n"
     ]
    }
   ],
   "source": [
    "arr_data = np.random.randint(1,10,(3,3))\n",
    "print(arr_data)"
   ]
  },
  {
   "cell_type": "code",
   "execution_count": 77,
   "id": "e24fe078-2638-4b39-b8e0-c839565a580e",
   "metadata": {},
   "outputs": [
    {
     "data": {
      "text/plain": [
       "array([[7, 1],\n",
       "       [7, 7],\n",
       "       [4, 5]], dtype=int32)"
      ]
     },
     "execution_count": 77,
     "metadata": {},
     "output_type": "execute_result"
    }
   ],
   "source": [
    "arr_data[:,[0, 2]]"
   ]
  },
  {
   "cell_type": "code",
   "execution_count": null,
   "id": "9abc142f-fc00-4679-ae4a-dddb3ce029e2",
   "metadata": {},
   "outputs": [],
   "source": []
  }
 ],
 "metadata": {
  "kernelspec": {
   "display_name": "Python 3 (ipykernel)",
   "language": "python",
   "name": "python3"
  },
  "language_info": {
   "codemirror_mode": {
    "name": "ipython",
    "version": 3
   },
   "file_extension": ".py",
   "mimetype": "text/x-python",
   "name": "python",
   "nbconvert_exporter": "python",
   "pygments_lexer": "ipython3",
   "version": "3.12.6"
  }
 },
 "nbformat": 4,
 "nbformat_minor": 5
}
