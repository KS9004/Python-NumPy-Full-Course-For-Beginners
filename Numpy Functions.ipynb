{
 "cells": [
  {
   "cell_type": "code",
   "execution_count": null,
   "id": "dbfd10bd-445f-474a-aa91-b92896203a3a",
   "metadata": {},
   "outputs": [],
   "source": [
    "# np.reshape() : It allows you to change the shape (dimensions) of an array without altering its data.\n",
    "# rule: The total no of elements in the original array must match the total no of elements in the new shape."
   ]
  },
  {
   "cell_type": "code",
   "execution_count": 1,
   "id": "35c1c18f-08e5-4418-b62e-29f12d5eb6d7",
   "metadata": {},
   "outputs": [
    {
     "name": "stdout",
     "output_type": "stream",
     "text": [
      "[1 2 3 4 5 6]\n"
     ]
    }
   ],
   "source": [
    "import numpy as np\n",
    "\n",
    "arr = np.array([1,2,3,4,5,6])\n",
    "print(arr)"
   ]
  },
  {
   "cell_type": "code",
   "execution_count": 2,
   "id": "5c437e58-73d2-4587-94e5-01e2f55e68f3",
   "metadata": {},
   "outputs": [
    {
     "data": {
      "text/plain": [
       "1"
      ]
     },
     "execution_count": 2,
     "metadata": {},
     "output_type": "execute_result"
    }
   ],
   "source": [
    "arr.ndim"
   ]
  },
  {
   "cell_type": "code",
   "execution_count": 3,
   "id": "3a8a5ca2-591a-44e2-900f-59b03b70a87c",
   "metadata": {},
   "outputs": [
    {
     "data": {
      "text/plain": [
       "(6,)"
      ]
     },
     "execution_count": 3,
     "metadata": {},
     "output_type": "execute_result"
    }
   ],
   "source": [
    "arr.shape"
   ]
  },
  {
   "cell_type": "code",
   "execution_count": 4,
   "id": "3434c4ca-9462-4503-9e5f-8d3636c98d83",
   "metadata": {},
   "outputs": [
    {
     "name": "stdout",
     "output_type": "stream",
     "text": [
      "[[1 2 3]\n",
      " [4 5 6]]\n"
     ]
    }
   ],
   "source": [
    "# (2,3)\n",
    "\n",
    "arr2 = np.reshape(arr,(2,3))\n",
    "print(arr2)\n"
   ]
  },
  {
   "cell_type": "code",
   "execution_count": 6,
   "id": "471071c7-b631-4e8a-b888-3c55adfe58f4",
   "metadata": {},
   "outputs": [
    {
     "name": "stdout",
     "output_type": "stream",
     "text": [
      "[1 2 3 4 5 6 7 8]\n"
     ]
    }
   ],
   "source": [
    "arr_data = np.array([1,2,3,4,5,6,7,8])\n",
    "print(arr_data)"
   ]
  },
  {
   "cell_type": "code",
   "execution_count": 7,
   "id": "daca5937-4a2b-489b-9d40-9957b7fefc28",
   "metadata": {},
   "outputs": [
    {
     "data": {
      "text/plain": [
       "8"
      ]
     },
     "execution_count": 7,
     "metadata": {},
     "output_type": "execute_result"
    }
   ],
   "source": [
    "arr_data.size"
   ]
  },
  {
   "cell_type": "code",
   "execution_count": 10,
   "id": "12ab6cb8-67b6-47d2-ba16-0f3ca1f33798",
   "metadata": {},
   "outputs": [
    {
     "name": "stdout",
     "output_type": "stream",
     "text": [
      "[[1 2]\n",
      " [3 4]\n",
      " [5 6]\n",
      " [7 8]]\n"
     ]
    }
   ],
   "source": [
    "arr_data2 = np.reshape(arr_data,(4,2))\n",
    "print(arr_data2)"
   ]
  },
  {
   "cell_type": "code",
   "execution_count": 11,
   "id": "0b13ba25-3757-456d-9357-b8e9d952e06f",
   "metadata": {},
   "outputs": [
    {
     "name": "stdout",
     "output_type": "stream",
     "text": [
      "[[[1 2]\n",
      "  [3 4]]\n",
      "\n",
      " [[5 6]\n",
      "  [7 8]]]\n"
     ]
    }
   ],
   "source": [
    "arr_data3 = np.reshape(arr_data,(2,2,2))\n",
    "print(arr_data3)"
   ]
  },
  {
   "cell_type": "code",
   "execution_count": 12,
   "id": "7f5bfd3d-a4b4-4b3c-933f-d0817accf579",
   "metadata": {},
   "outputs": [
    {
     "data": {
      "text/plain": [
       "3"
      ]
     },
     "execution_count": 12,
     "metadata": {},
     "output_type": "execute_result"
    }
   ],
   "source": [
    "arr_data3.ndim"
   ]
  },
  {
   "cell_type": "code",
   "execution_count": 13,
   "id": "2b829b0e-806f-40c0-ab6a-fa8537c1bc86",
   "metadata": {},
   "outputs": [
    {
     "data": {
      "text/plain": [
       "8"
      ]
     },
     "execution_count": 13,
     "metadata": {},
     "output_type": "execute_result"
    }
   ],
   "source": [
    "arr_data3.size"
   ]
  },
  {
   "cell_type": "code",
   "execution_count": null,
   "id": "3a82fd48-7127-47e1-9c6a-60957326b7e1",
   "metadata": {},
   "outputs": [],
   "source": [
    "# np.max() : It returns the maximum value from the array."
   ]
  },
  {
   "cell_type": "code",
   "execution_count": 14,
   "id": "6aeb5b69-44a8-47b5-bb4a-008d088c254b",
   "metadata": {},
   "outputs": [
    {
     "name": "stdout",
     "output_type": "stream",
     "text": [
      "[ 9  4  9  7  7  7 18  0  2  5 18 18  8 15  4]\n"
     ]
    }
   ],
   "source": [
    "arr_value = np.random.randint(0, 20, 15)\n",
    "print(arr_value)"
   ]
  },
  {
   "cell_type": "code",
   "execution_count": 15,
   "id": "3e077999-f8a7-41a6-a992-b78ff6c97d09",
   "metadata": {},
   "outputs": [
    {
     "data": {
      "text/plain": [
       "np.int32(18)"
      ]
     },
     "execution_count": 15,
     "metadata": {},
     "output_type": "execute_result"
    }
   ],
   "source": [
    "np.max(arr_value)"
   ]
  },
  {
   "cell_type": "code",
   "execution_count": 16,
   "id": "01a87a1b-b7a0-43bd-8ee8-9f6f09f9fa93",
   "metadata": {},
   "outputs": [
    {
     "data": {
      "text/plain": [
       "1"
      ]
     },
     "execution_count": 16,
     "metadata": {},
     "output_type": "execute_result"
    }
   ],
   "source": [
    "arr_value.ndim"
   ]
  },
  {
   "cell_type": "code",
   "execution_count": 17,
   "id": "cc5fd000-ade0-4833-8524-416b7fd2e009",
   "metadata": {},
   "outputs": [
    {
     "name": "stdout",
     "output_type": "stream",
     "text": [
      "[[14 13 15 17 16]\n",
      " [17 16 18 16 15]\n",
      " [11 11 18 14 13]\n",
      " [19 12 15 17 14]]\n"
     ]
    }
   ],
   "source": [
    "arr_value1 = np.random.randint(10, 20, (4,5))\n",
    "print(arr_value1)"
   ]
  },
  {
   "cell_type": "code",
   "execution_count": 18,
   "id": "aa1cd295-d481-4538-8468-385e60e298e2",
   "metadata": {},
   "outputs": [
    {
     "data": {
      "text/plain": [
       "2"
      ]
     },
     "execution_count": 18,
     "metadata": {},
     "output_type": "execute_result"
    }
   ],
   "source": [
    "arr_value1.ndim"
   ]
  },
  {
   "cell_type": "code",
   "execution_count": 20,
   "id": "0a83c04e-5b44-4d57-96c1-0516605396f2",
   "metadata": {},
   "outputs": [
    {
     "data": {
      "text/plain": [
       "array([19, 16, 18, 17, 16], dtype=int32)"
      ]
     },
     "execution_count": 20,
     "metadata": {},
     "output_type": "execute_result"
    }
   ],
   "source": [
    "np.max(arr_value1,axis=0)"
   ]
  },
  {
   "cell_type": "code",
   "execution_count": 21,
   "id": "6be0c323-a2a8-4bf9-aee5-e51e99589375",
   "metadata": {},
   "outputs": [
    {
     "data": {
      "text/plain": [
       "array([17, 18, 18, 19], dtype=int32)"
      ]
     },
     "execution_count": 21,
     "metadata": {},
     "output_type": "execute_result"
    }
   ],
   "source": [
    "np.max(arr_value1,axis=1)"
   ]
  },
  {
   "cell_type": "code",
   "execution_count": null,
   "id": "8f1a39d3-c944-4a92-a5ad-3eb9dfc989ae",
   "metadata": {},
   "outputs": [],
   "source": [
    "# np.argmax(): Returns the index of the maximum value in the array."
   ]
  },
  {
   "cell_type": "code",
   "execution_count": 24,
   "id": "5b2323af-aec6-47d9-a237-e42ec2e21925",
   "metadata": {},
   "outputs": [
    {
     "name": "stdout",
     "output_type": "stream",
     "text": [
      "[ 9  4  9  7  7  7 18  0  2  5 18 18  8 15  4]\n"
     ]
    }
   ],
   "source": [
    "print(arr_value)"
   ]
  },
  {
   "cell_type": "code",
   "execution_count": 25,
   "id": "79da2c41-9ff4-404f-b3f8-1f480209ba09",
   "metadata": {},
   "outputs": [
    {
     "data": {
      "text/plain": [
       "15"
      ]
     },
     "execution_count": 25,
     "metadata": {},
     "output_type": "execute_result"
    }
   ],
   "source": [
    "arr_value.size"
   ]
  },
  {
   "cell_type": "code",
   "execution_count": 27,
   "id": "054710af-dd08-4258-8417-a145a8ebcc1b",
   "metadata": {},
   "outputs": [
    {
     "data": {
      "text/plain": [
       "np.int32(4)"
      ]
     },
     "execution_count": 27,
     "metadata": {},
     "output_type": "execute_result"
    }
   ],
   "source": [
    "arr_value[1]"
   ]
  },
  {
   "cell_type": "code",
   "execution_count": 28,
   "id": "38ecf25f-5c4a-46cd-b000-10a29c9e2a4a",
   "metadata": {},
   "outputs": [
    {
     "data": {
      "text/plain": [
       "np.int64(6)"
      ]
     },
     "execution_count": 28,
     "metadata": {},
     "output_type": "execute_result"
    }
   ],
   "source": [
    "np.argmax(arr_value)"
   ]
  },
  {
   "cell_type": "code",
   "execution_count": 29,
   "id": "287cc3e6-be5b-4ac9-8b33-7d41e13c3d49",
   "metadata": {},
   "outputs": [
    {
     "name": "stdout",
     "output_type": "stream",
     "text": [
      "[[14 13 15 17 16]\n",
      " [17 16 18 16 15]\n",
      " [11 11 18 14 13]\n",
      " [19 12 15 17 14]]\n"
     ]
    }
   ],
   "source": [
    "print(arr_value1)"
   ]
  },
  {
   "cell_type": "code",
   "execution_count": 32,
   "id": "aea15521-181f-46df-a584-809e122399b5",
   "metadata": {},
   "outputs": [
    {
     "data": {
      "text/plain": [
       "array([3, 2, 2, 0])"
      ]
     },
     "execution_count": 32,
     "metadata": {},
     "output_type": "execute_result"
    }
   ],
   "source": [
    "np.argmax(arr_value1, axis=1)"
   ]
  },
  {
   "cell_type": "code",
   "execution_count": null,
   "id": "b8d7f2ec-8337-444b-b2b5-5e96bd54cc2d",
   "metadata": {},
   "outputs": [],
   "source": [
    "# np.min(): Returns the minimum value of the array."
   ]
  },
  {
   "cell_type": "code",
   "execution_count": 33,
   "id": "1aa8ecb7-8fd7-4e6c-944b-2a8887b2ba40",
   "metadata": {},
   "outputs": [
    {
     "data": {
      "text/plain": [
       "array([ 9,  4,  9,  7,  7,  7, 18,  0,  2,  5, 18, 18,  8, 15,  4],\n",
       "      dtype=int32)"
      ]
     },
     "execution_count": 33,
     "metadata": {},
     "output_type": "execute_result"
    }
   ],
   "source": [
    "arr_value"
   ]
  },
  {
   "cell_type": "code",
   "execution_count": 34,
   "id": "ea52be53-0de4-4c28-b84d-d09936318354",
   "metadata": {},
   "outputs": [
    {
     "data": {
      "text/plain": [
       "np.int32(0)"
      ]
     },
     "execution_count": 34,
     "metadata": {},
     "output_type": "execute_result"
    }
   ],
   "source": [
    "np.min(arr_value)"
   ]
  },
  {
   "cell_type": "code",
   "execution_count": 35,
   "id": "04211b4b-2e89-45f3-b141-fd0ff3ee3e10",
   "metadata": {},
   "outputs": [
    {
     "data": {
      "text/plain": [
       "array([[14, 13, 15, 17, 16],\n",
       "       [17, 16, 18, 16, 15],\n",
       "       [11, 11, 18, 14, 13],\n",
       "       [19, 12, 15, 17, 14]], dtype=int32)"
      ]
     },
     "execution_count": 35,
     "metadata": {},
     "output_type": "execute_result"
    }
   ],
   "source": [
    "arr_value1"
   ]
  },
  {
   "cell_type": "code",
   "execution_count": 38,
   "id": "114a4b1d-87fe-4a5e-be3a-c9779fff875e",
   "metadata": {},
   "outputs": [
    {
     "data": {
      "text/plain": [
       "array([13, 15, 11, 12], dtype=int32)"
      ]
     },
     "execution_count": 38,
     "metadata": {},
     "output_type": "execute_result"
    }
   ],
   "source": [
    "np.min(arr_value1, axis=1)"
   ]
  },
  {
   "cell_type": "code",
   "execution_count": null,
   "id": "f2b87845-03e1-4044-aaff-ad791aad723e",
   "metadata": {},
   "outputs": [],
   "source": [
    "# np.argmin(): Returns the index of minimum value of the array."
   ]
  },
  {
   "cell_type": "code",
   "execution_count": 39,
   "id": "1ff096f2-c25e-47c2-9943-f266a2f83c61",
   "metadata": {},
   "outputs": [
    {
     "name": "stdout",
     "output_type": "stream",
     "text": [
      "[ 9  4  9  7  7  7 18  0  2  5 18 18  8 15  4]\n"
     ]
    }
   ],
   "source": [
    "print(arr_value)"
   ]
  },
  {
   "cell_type": "code",
   "execution_count": 40,
   "id": "bf7cbe48-653b-4021-9c2f-d092edd3558a",
   "metadata": {},
   "outputs": [
    {
     "data": {
      "text/plain": [
       "np.int64(7)"
      ]
     },
     "execution_count": 40,
     "metadata": {},
     "output_type": "execute_result"
    }
   ],
   "source": [
    "np.argmin(arr_value)"
   ]
  },
  {
   "cell_type": "code",
   "execution_count": 41,
   "id": "bc53a02d-4b72-4b0a-840a-ce817466f4b7",
   "metadata": {},
   "outputs": [
    {
     "data": {
      "text/plain": [
       "array([[14, 13, 15, 17, 16],\n",
       "       [17, 16, 18, 16, 15],\n",
       "       [11, 11, 18, 14, 13],\n",
       "       [19, 12, 15, 17, 14]], dtype=int32)"
      ]
     },
     "execution_count": 41,
     "metadata": {},
     "output_type": "execute_result"
    }
   ],
   "source": [
    "arr_value1"
   ]
  },
  {
   "cell_type": "code",
   "execution_count": 44,
   "id": "38a3e4f8-942b-43ba-b8c3-8203490d953a",
   "metadata": {},
   "outputs": [
    {
     "data": {
      "text/plain": [
       "array([1, 4, 0, 1])"
      ]
     },
     "execution_count": 44,
     "metadata": {},
     "output_type": "execute_result"
    }
   ],
   "source": [
    "np.argmin(arr_value1, axis=1)"
   ]
  },
  {
   "cell_type": "code",
   "execution_count": null,
   "id": "df3bfc13-c6c5-435a-8ac9-6b55dc5a4ba5",
   "metadata": {},
   "outputs": [],
   "source": [
    "# np.concatenate() : It is used to join two or more arrays along specified axis.\n",
    "# It's helpful when you want to combine arrays into a single array without modifying the data."
   ]
  },
  {
   "cell_type": "code",
   "execution_count": 48,
   "id": "ac4e5dc9-ed58-49a8-b5af-526c742ed3c4",
   "metadata": {},
   "outputs": [
    {
     "name": "stdout",
     "output_type": "stream",
     "text": [
      "[1 2 3 4 5 6]\n",
      "[ 7  8  9 10 11 12 13]\n"
     ]
    }
   ],
   "source": [
    "array = np.arange(1,7)\n",
    "array2 = np.arange(7,14)\n",
    "print(array)\n",
    "print(array2)"
   ]
  },
  {
   "cell_type": "code",
   "execution_count": 49,
   "id": "9f6056c4-0880-4fa1-a35b-d4dbbef516cf",
   "metadata": {},
   "outputs": [
    {
     "name": "stdout",
     "output_type": "stream",
     "text": [
      "[ 1  2  3  4  5  6  7  8  9 10 11 12 13]\n"
     ]
    }
   ],
   "source": [
    "array3 = np.concatenate([array, array2])\n",
    "print(array3)"
   ]
  },
  {
   "cell_type": "code",
   "execution_count": 52,
   "id": "9caeffb3-a711-4a47-9255-7937684d471a",
   "metadata": {},
   "outputs": [
    {
     "name": "stdout",
     "output_type": "stream",
     "text": [
      "[[2 9 2 3]\n",
      " [8 2 6 6]]\n",
      "[[17 15 15 11]\n",
      " [14 12 17 15]]\n"
     ]
    }
   ],
   "source": [
    "array4 = np.random.randint(1, 10, (2, 4))\n",
    "array5 = np.random.randint(10, 20, (2, 4))\n",
    "print(array4)\n",
    "print(array5)"
   ]
  },
  {
   "cell_type": "code",
   "execution_count": 53,
   "id": "bc0cec3e-e8f4-4c2d-912d-653366f4e0b8",
   "metadata": {},
   "outputs": [
    {
     "name": "stdout",
     "output_type": "stream",
     "text": [
      "[[ 2  9  2  3]\n",
      " [ 8  2  6  6]\n",
      " [17 15 15 11]\n",
      " [14 12 17 15]]\n"
     ]
    }
   ],
   "source": [
    "array6 = np.concatenate([array4, array5])\n",
    "print(array6)"
   ]
  },
  {
   "cell_type": "code",
   "execution_count": null,
   "id": "0abd7437-f189-4d1e-85ce-6d59fe0d64a2",
   "metadata": {},
   "outputs": [],
   "source": [
    "# concatenate along axis\n",
    "# axis = 0 --> Row wise\n",
    "# axis = 1 --- Column wise"
   ]
  },
  {
   "cell_type": "code",
   "execution_count": 54,
   "id": "957d07eb-4db6-4e21-a26a-98f79fdf5bbf",
   "metadata": {},
   "outputs": [
    {
     "name": "stdout",
     "output_type": "stream",
     "text": [
      "[[1 2]\n",
      " [3 4]]\n",
      "[[5 6]\n",
      " [7 8]]\n"
     ]
    }
   ],
   "source": [
    "array_data = np.array([[1,2],[3,4]])\n",
    "array_data2 = np.array([[5,6],[7,8]])\n",
    "print(array_data)\n",
    "print(array_data2)"
   ]
  },
  {
   "cell_type": "code",
   "execution_count": 55,
   "id": "85ac29f5-93c4-494a-a584-85bf38535db6",
   "metadata": {},
   "outputs": [
    {
     "name": "stdout",
     "output_type": "stream",
     "text": [
      "[[1 2]\n",
      " [3 4]\n",
      " [5 6]\n",
      " [7 8]]\n"
     ]
    }
   ],
   "source": [
    "result = np.concatenate((array_data, array_data2), axis=0 )\n",
    "print(result)"
   ]
  },
  {
   "cell_type": "code",
   "execution_count": 56,
   "id": "7057843e-c60a-49aa-a19b-1fc6ee425c36",
   "metadata": {},
   "outputs": [
    {
     "name": "stdout",
     "output_type": "stream",
     "text": [
      "[[1 2 5 6]\n",
      " [3 4 7 8]]\n"
     ]
    }
   ],
   "source": [
    "result = np.concatenate((array_data, array_data2), axis = 1)\n",
    "print(result)"
   ]
  },
  {
   "cell_type": "code",
   "execution_count": null,
   "id": "5efd74f6-b4d5-48bb-8fb4-134be915ec39",
   "metadata": {},
   "outputs": [],
   "source": [
    "# np.split(): It is used to split an array into multiple sub-arrays.\n",
    "# You can specify the number of sub-arrays or provide specific indices where the splits should occur.\n",
    "# It is useful when you want to divide data into equal parts or based on the certain positions in the array."
   ]
  },
  {
   "cell_type": "code",
   "execution_count": 57,
   "id": "7eb94a70-6a62-4cf6-a3ea-130c6e984a68",
   "metadata": {},
   "outputs": [
    {
     "name": "stdout",
     "output_type": "stream",
     "text": [
      "[1 2 3 4 5 6]\n"
     ]
    }
   ],
   "source": [
    "data = np.arange(1,7)\n",
    "print(data)"
   ]
  },
  {
   "cell_type": "code",
   "execution_count": 60,
   "id": "1fd38ad3-ca1f-426d-ab00-2895a25806d6",
   "metadata": {},
   "outputs": [],
   "source": [
    "x,y,z = np.split(data, 3)"
   ]
  },
  {
   "cell_type": "code",
   "execution_count": 61,
   "id": "c65f3e9d-44a6-4abd-bc61-afc267c4a834",
   "metadata": {},
   "outputs": [
    {
     "name": "stdout",
     "output_type": "stream",
     "text": [
      "[1 2]\n"
     ]
    }
   ],
   "source": [
    "print(x)"
   ]
  },
  {
   "cell_type": "code",
   "execution_count": 62,
   "id": "41744f19-94d8-4ed5-aae9-563791d8d10a",
   "metadata": {},
   "outputs": [
    {
     "name": "stdout",
     "output_type": "stream",
     "text": [
      "[3 4]\n"
     ]
    }
   ],
   "source": [
    "print(y)"
   ]
  },
  {
   "cell_type": "code",
   "execution_count": 63,
   "id": "fb5db928-545e-4eae-a88c-56cdd91b081b",
   "metadata": {},
   "outputs": [
    {
     "name": "stdout",
     "output_type": "stream",
     "text": [
      "[5 6]\n"
     ]
    }
   ],
   "source": [
    "print(z)"
   ]
  },
  {
   "cell_type": "code",
   "execution_count": 64,
   "id": "02c1322b-7de2-429b-8bad-33f878f9ec09",
   "metadata": {},
   "outputs": [
    {
     "data": {
      "text/plain": [
       "[array([1, 2]), array([3, 4]), array([5, 6])]"
      ]
     },
     "execution_count": 64,
     "metadata": {},
     "output_type": "execute_result"
    }
   ],
   "source": [
    "np.split(data,[2,4])"
   ]
  },
  {
   "cell_type": "code",
   "execution_count": 66,
   "id": "f30f0a43-4f44-4de9-9e55-fa1362339e12",
   "metadata": {},
   "outputs": [
    {
     "name": "stdout",
     "output_type": "stream",
     "text": [
      "[[1 2]\n",
      " [3 4]\n",
      " [5 6]\n",
      " [7 8]]\n"
     ]
    }
   ],
   "source": [
    "data3 = np.array([[1,2],[3,4],[5,6],[7,8]])\n",
    "print(data3)"
   ]
  },
  {
   "cell_type": "code",
   "execution_count": 67,
   "id": "8da63b8f-a406-4ed8-981e-46f2b7ab6e02",
   "metadata": {},
   "outputs": [
    {
     "data": {
      "text/plain": [
       "[array([[1, 2],\n",
       "        [3, 4]]),\n",
       " array([[5, 6],\n",
       "        [7, 8]])]"
      ]
     },
     "execution_count": 67,
     "metadata": {},
     "output_type": "execute_result"
    }
   ],
   "source": [
    "np.split(data3, 2, axis=0 )"
   ]
  },
  {
   "cell_type": "code",
   "execution_count": 68,
   "id": "05e369f5-3743-4ee1-96b5-3952c841f8b9",
   "metadata": {},
   "outputs": [
    {
     "data": {
      "text/plain": [
       "[array([[1],\n",
       "        [3],\n",
       "        [5],\n",
       "        [7]]),\n",
       " array([[2],\n",
       "        [4],\n",
       "        [6],\n",
       "        [8]])]"
      ]
     },
     "execution_count": 68,
     "metadata": {},
     "output_type": "execute_result"
    }
   ],
   "source": [
    "np.split(data3, 2, axis=1)"
   ]
  },
  {
   "cell_type": "code",
   "execution_count": null,
   "id": "980a0cd4-4953-40e3-99df-d8587f7878a8",
   "metadata": {},
   "outputs": [],
   "source": [
    "# np.sort(): It sorts the elemenst of an array and returns a new array with the elements sorted in ascending order by default.\n",
    "# It can handle sorting in multiple dimensions (1D, 2D, 3D, etc)."
   ]
  },
  {
   "cell_type": "code",
   "execution_count": 70,
   "id": "e00597f6-596d-4897-a27e-b179c5957fee",
   "metadata": {},
   "outputs": [
    {
     "data": {
      "text/plain": [
       "array([1, 2, 3, 4, 5])"
      ]
     },
     "execution_count": 70,
     "metadata": {},
     "output_type": "execute_result"
    }
   ],
   "source": [
    "array1d = np.array([3,1,5,2,4])\n",
    "np.sort(array1d)"
   ]
  },
  {
   "cell_type": "code",
   "execution_count": 71,
   "id": "b59a36c5-6b6d-4ecf-9300-2e26152fd56c",
   "metadata": {},
   "outputs": [
    {
     "name": "stdout",
     "output_type": "stream",
     "text": [
      "[[ 9  2]\n",
      " [14 16]]\n"
     ]
    }
   ],
   "source": [
    "array2d = np.random.randint(1, 20, (2,2))\n",
    "print(array2d)"
   ]
  },
  {
   "cell_type": "code",
   "execution_count": 72,
   "id": "b15b6fa8-b4cb-4c4d-a51a-000898cf583d",
   "metadata": {},
   "outputs": [
    {
     "data": {
      "text/plain": [
       "array([[ 2,  9],\n",
       "       [14, 16]], dtype=int32)"
      ]
     },
     "execution_count": 72,
     "metadata": {},
     "output_type": "execute_result"
    }
   ],
   "source": [
    "np.sort(array2d, axis=1)"
   ]
  },
  {
   "cell_type": "code",
   "execution_count": 73,
   "id": "7937b304-65ae-46e1-b9e5-715fcea664d0",
   "metadata": {},
   "outputs": [
    {
     "data": {
      "text/plain": [
       "array([[ 9,  2],\n",
       "       [14, 16]], dtype=int32)"
      ]
     },
     "execution_count": 73,
     "metadata": {},
     "output_type": "execute_result"
    }
   ],
   "source": [
    "np.sort(array2d, axis=0)"
   ]
  },
  {
   "cell_type": "code",
   "execution_count": null,
   "id": "5c7b2861-b1b6-4df2-b5d1-63ec28906d12",
   "metadata": {},
   "outputs": [],
   "source": []
  }
 ],
 "metadata": {
  "kernelspec": {
   "display_name": "Python 3 (ipykernel)",
   "language": "python",
   "name": "python3"
  },
  "language_info": {
   "codemirror_mode": {
    "name": "ipython",
    "version": 3
   },
   "file_extension": ".py",
   "mimetype": "text/x-python",
   "name": "python",
   "nbconvert_exporter": "python",
   "pygments_lexer": "ipython3",
   "version": "3.12.6"
  }
 },
 "nbformat": 4,
 "nbformat_minor": 5
}
