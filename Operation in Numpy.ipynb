{
 "cells": [
  {
   "cell_type": "code",
   "execution_count": null,
   "id": "77f3b366-2a83-49aa-b7ed-79e81bc81849",
   "metadata": {},
   "outputs": [],
   "source": [
    "# Operation with comparison operators\n",
    "# Arithmetic Operations\n",
    "# Statistical Operations"
   ]
  },
  {
   "cell_type": "code",
   "execution_count": null,
   "id": "8cf0765e-ee75-4c35-96dd-6b8d8d7dec01",
   "metadata": {},
   "outputs": [],
   "source": [
    "# In Numpy, comprison operators (>,<,==,!=,>=,<=) can be applied directly to arrays to perform element-wise comparisons.\n",
    "# These comparisons return Boolean arrays, where each element is either True or False based on the result of the comparison.\n",
    "# This is useful for filtering, counting, or setting specific elements in the array based on certain conditions."
   ]
  },
  {
   "cell_type": "code",
   "execution_count": 1,
   "id": "edbfb60a-e871-4fb1-a147-97541c14033f",
   "metadata": {},
   "outputs": [],
   "source": [
    "import numpy as np"
   ]
  },
  {
   "cell_type": "code",
   "execution_count": 2,
   "id": "a8be96a0-0529-4c8a-baef-017b18a167e5",
   "metadata": {},
   "outputs": [
    {
     "data": {
      "text/plain": [
       "array([10, 20, 30, 40, 50])"
      ]
     },
     "execution_count": 2,
     "metadata": {},
     "output_type": "execute_result"
    }
   ],
   "source": [
    "array = np.array([10, 20, 30, 40, 50])\n",
    "array"
   ]
  },
  {
   "cell_type": "code",
   "execution_count": 4,
   "id": "6cdf987a-5674-449b-abc3-d3fbead3ef94",
   "metadata": {},
   "outputs": [
    {
     "name": "stdout",
     "output_type": "stream",
     "text": [
      "[False False  True  True  True]\n"
     ]
    }
   ],
   "source": [
    "# > \n",
    "\n",
    "result = array > 25\n",
    "print(result)"
   ]
  },
  {
   "cell_type": "code",
   "execution_count": 5,
   "id": "d24c3551-5aba-492d-9fdb-23df218ff1ca",
   "metadata": {},
   "outputs": [
    {
     "name": "stdout",
     "output_type": "stream",
     "text": [
      "[ True  True False False False]\n"
     ]
    }
   ],
   "source": [
    "# <\n",
    "\n",
    "result2 = array < 30\n",
    "print(result2)"
   ]
  },
  {
   "cell_type": "code",
   "execution_count": 6,
   "id": "77270c8c-9da1-4ce7-a7bc-aa9933c4e836",
   "metadata": {},
   "outputs": [
    {
     "name": "stdout",
     "output_type": "stream",
     "text": [
      "[False  True False False False]\n"
     ]
    }
   ],
   "source": [
    "#  ==\n",
    "\n",
    "result3 = array == 20\n",
    "print(result3)"
   ]
  },
  {
   "cell_type": "code",
   "execution_count": 7,
   "id": "bd088400-e102-4a4e-bd54-948448d0366d",
   "metadata": {},
   "outputs": [
    {
     "name": "stdout",
     "output_type": "stream",
     "text": [
      "[30 40 50]\n"
     ]
    }
   ],
   "source": [
    "# filtering\n",
    "\n",
    "filtered_elements = array[array > 25]\n",
    "print(filtered_elements)"
   ]
  },
  {
   "cell_type": "code",
   "execution_count": null,
   "id": "5c9b83e9-ee15-497e-bdb0-eabc422d533d",
   "metadata": {},
   "outputs": [],
   "source": [
    "# NumPy allows you to combine multiple conditions using bitwise operators:\n",
    "# & for \"and\"\n",
    "# | for \"or\"\n",
    "# ~ for \"not\""
   ]
  },
  {
   "cell_type": "code",
   "execution_count": 9,
   "id": "9cd5b493-b864-4ff2-a882-644be654f2e0",
   "metadata": {},
   "outputs": [
    {
     "name": "stdout",
     "output_type": "stream",
     "text": [
      "[10 50]\n"
     ]
    }
   ],
   "source": [
    "filter_elements = array[(array == 10) | (array > 40)]\n",
    "print(filter_elements)"
   ]
  },
  {
   "cell_type": "code",
   "execution_count": null,
   "id": "9cb1ccda-b827-41c1-b587-a22dff69b7d8",
   "metadata": {},
   "outputs": [],
   "source": [
    "# Arithmetic Operations: In Numpy, arithmetic operations can be performed directly on arrays.\n",
    "# These operations work between arrays or between an array and a scalar (single value).\n",
    "# Basic arithmetic operators and functions in Numpy include:\n",
    "# Addition (+) | np.add()\n",
    "# Subtraction (-) | np.subtract()\n",
    "# Multiplication (*) | np.multiply()\n",
    "# Division (/) | np.divide()\n",
    "# Exponentiation (**) | np.power()\n",
    "# Modulus (%) | np.mod()"
   ]
  },
  {
   "cell_type": "code",
   "execution_count": 10,
   "id": "1a442391-f93f-4d57-977c-93825590cd9f",
   "metadata": {},
   "outputs": [],
   "source": [
    "arr1 = np.array([1,2,3,4,5])\n",
    "arr2 = np.array([10,20,30,40,50])"
   ]
  },
  {
   "cell_type": "code",
   "execution_count": 11,
   "id": "3986e7f2-ede8-4e87-985a-277ee944d1e4",
   "metadata": {},
   "outputs": [
    {
     "data": {
      "text/plain": [
       "array([11, 22, 33, 44, 55])"
      ]
     },
     "execution_count": 11,
     "metadata": {},
     "output_type": "execute_result"
    }
   ],
   "source": [
    "arr1 + arr2"
   ]
  },
  {
   "cell_type": "code",
   "execution_count": 12,
   "id": "736c974d-ed3e-4edc-84ac-f40d227cd826",
   "metadata": {},
   "outputs": [
    {
     "data": {
      "text/plain": [
       "array([11, 22, 33, 44, 55])"
      ]
     },
     "execution_count": 12,
     "metadata": {},
     "output_type": "execute_result"
    }
   ],
   "source": [
    "np.add(arr1,arr2)"
   ]
  },
  {
   "cell_type": "code",
   "execution_count": 13,
   "id": "e8a952fb-501f-40a2-ae7d-eded3c8b53f4",
   "metadata": {},
   "outputs": [
    {
     "data": {
      "text/plain": [
       "array([ 9, 18, 27, 36, 45])"
      ]
     },
     "execution_count": 13,
     "metadata": {},
     "output_type": "execute_result"
    }
   ],
   "source": [
    "arr2-arr1"
   ]
  },
  {
   "cell_type": "code",
   "execution_count": 14,
   "id": "f243a8f9-ba08-4f54-a17a-b56f6fd00592",
   "metadata": {},
   "outputs": [
    {
     "data": {
      "text/plain": [
       "array([ 9, 18, 27, 36, 45])"
      ]
     },
     "execution_count": 14,
     "metadata": {},
     "output_type": "execute_result"
    }
   ],
   "source": [
    "np.subtract(arr2,arr1)"
   ]
  },
  {
   "cell_type": "code",
   "execution_count": 15,
   "id": "00bdaea5-bf3e-471a-a081-724ba4f6c814",
   "metadata": {},
   "outputs": [
    {
     "data": {
      "text/plain": [
       "array([ 10,  40,  90, 160, 250])"
      ]
     },
     "execution_count": 15,
     "metadata": {},
     "output_type": "execute_result"
    }
   ],
   "source": [
    "arr1 * arr2"
   ]
  },
  {
   "cell_type": "code",
   "execution_count": 16,
   "id": "8c96a60a-5368-44bc-99e1-52541c19d046",
   "metadata": {},
   "outputs": [
    {
     "data": {
      "text/plain": [
       "array([ 10,  40,  90, 160, 250])"
      ]
     },
     "execution_count": 16,
     "metadata": {},
     "output_type": "execute_result"
    }
   ],
   "source": [
    "np.multiply(arr1,arr2)"
   ]
  },
  {
   "cell_type": "code",
   "execution_count": 17,
   "id": "1defc01a-8aa9-41f0-a707-9caa34b9c54a",
   "metadata": {},
   "outputs": [
    {
     "data": {
      "text/plain": [
       "array([10., 10., 10., 10., 10.])"
      ]
     },
     "execution_count": 17,
     "metadata": {},
     "output_type": "execute_result"
    }
   ],
   "source": [
    "arr2 / arr1"
   ]
  },
  {
   "cell_type": "code",
   "execution_count": 18,
   "id": "24e55694-ba80-40c9-9033-0d06593e2640",
   "metadata": {},
   "outputs": [
    {
     "data": {
      "text/plain": [
       "array([10., 10., 10., 10., 10.])"
      ]
     },
     "execution_count": 18,
     "metadata": {},
     "output_type": "execute_result"
    }
   ],
   "source": [
    "np.divide(arr2,arr1)"
   ]
  },
  {
   "cell_type": "code",
   "execution_count": 19,
   "id": "22382091-5a68-4c7e-9392-04182c2ca3ed",
   "metadata": {},
   "outputs": [
    {
     "data": {
      "text/plain": [
       "array([ 1,  4,  9, 16, 25])"
      ]
     },
     "execution_count": 19,
     "metadata": {},
     "output_type": "execute_result"
    }
   ],
   "source": [
    "arr1 ** 2"
   ]
  },
  {
   "cell_type": "code",
   "execution_count": 20,
   "id": "b79bb46f-ea54-4d88-82a5-a96ba1bc1798",
   "metadata": {},
   "outputs": [
    {
     "data": {
      "text/plain": [
       "array([ 1,  4,  9, 16, 25])"
      ]
     },
     "execution_count": 20,
     "metadata": {},
     "output_type": "execute_result"
    }
   ],
   "source": [
    "np.power(arr1,2)"
   ]
  },
  {
   "cell_type": "code",
   "execution_count": 21,
   "id": "8a04b6cd-dbac-4102-8f2d-1ab059023261",
   "metadata": {},
   "outputs": [
    {
     "data": {
      "text/plain": [
       "array([0, 0, 0, 0, 0])"
      ]
     },
     "execution_count": 21,
     "metadata": {},
     "output_type": "execute_result"
    }
   ],
   "source": [
    "arr2 % arr1"
   ]
  },
  {
   "cell_type": "code",
   "execution_count": 23,
   "id": "723e9570-7a5c-4ba7-ad7a-68eaac1e5075",
   "metadata": {},
   "outputs": [
    {
     "data": {
      "text/plain": [
       "array([0, 0, 0, 0, 0])"
      ]
     },
     "execution_count": 23,
     "metadata": {},
     "output_type": "execute_result"
    }
   ],
   "source": [
    "np.mod(arr2,arr1)"
   ]
  },
  {
   "cell_type": "code",
   "execution_count": 24,
   "id": "d5a6da6c-92dd-4280-9709-baedf5a2031b",
   "metadata": {},
   "outputs": [
    {
     "data": {
      "text/plain": [
       "array([1, 2, 3, 4, 5])"
      ]
     },
     "execution_count": 24,
     "metadata": {},
     "output_type": "execute_result"
    }
   ],
   "source": [
    "arr1"
   ]
  },
  {
   "cell_type": "code",
   "execution_count": 25,
   "id": "7d0343c9-aded-49a4-980b-ab222ff00c10",
   "metadata": {},
   "outputs": [
    {
     "data": {
      "text/plain": [
       "array([2, 3, 4, 5, 6])"
      ]
     },
     "execution_count": 25,
     "metadata": {},
     "output_type": "execute_result"
    }
   ],
   "source": [
    "arr1 + 1"
   ]
  },
  {
   "cell_type": "code",
   "execution_count": null,
   "id": "fec6ebae-de67-4661-be3a-d5f8fe627c15",
   "metadata": {},
   "outputs": [],
   "source": [
    "# Statistical Operations : It has various functions to perform statistical operation."
   ]
  },
  {
   "cell_type": "code",
   "execution_count": 26,
   "id": "c9962e2d-014d-43a3-a4e8-d625580cf35d",
   "metadata": {},
   "outputs": [
    {
     "data": {
      "text/plain": [
       "array([1, 2, 3, 4, 5])"
      ]
     },
     "execution_count": 26,
     "metadata": {},
     "output_type": "execute_result"
    }
   ],
   "source": [
    "arr1"
   ]
  },
  {
   "cell_type": "code",
   "execution_count": 27,
   "id": "92d5994f-5399-4441-986f-2b9d2802ad91",
   "metadata": {},
   "outputs": [
    {
     "data": {
      "text/plain": [
       "np.int64(15)"
      ]
     },
     "execution_count": 27,
     "metadata": {},
     "output_type": "execute_result"
    }
   ],
   "source": [
    "np.sum(arr1)"
   ]
  },
  {
   "cell_type": "code",
   "execution_count": 29,
   "id": "4a1eb005-b2cb-407d-bb2b-740a01fd1131",
   "metadata": {},
   "outputs": [
    {
     "data": {
      "text/plain": [
       "np.int64(120)"
      ]
     },
     "execution_count": 29,
     "metadata": {},
     "output_type": "execute_result"
    }
   ],
   "source": [
    "np.prod(arr1)"
   ]
  },
  {
   "cell_type": "code",
   "execution_count": 30,
   "id": "7fdbbe37-0ba3-4b58-85d0-df96058c61bb",
   "metadata": {},
   "outputs": [
    {
     "data": {
      "text/plain": [
       "np.float64(3.0)"
      ]
     },
     "execution_count": 30,
     "metadata": {},
     "output_type": "execute_result"
    }
   ],
   "source": [
    "np.mean(arr1)"
   ]
  },
  {
   "cell_type": "code",
   "execution_count": 31,
   "id": "fbf12346-5358-4916-ac0f-baf161832818",
   "metadata": {},
   "outputs": [
    {
     "data": {
      "text/plain": [
       "np.float64(1.4142135623730951)"
      ]
     },
     "execution_count": 31,
     "metadata": {},
     "output_type": "execute_result"
    }
   ],
   "source": [
    "np.std(arr1)"
   ]
  },
  {
   "cell_type": "code",
   "execution_count": 32,
   "id": "57d936a7-be0b-4141-8188-f0de7e816640",
   "metadata": {},
   "outputs": [
    {
     "data": {
      "text/plain": [
       "np.float64(2.0)"
      ]
     },
     "execution_count": 32,
     "metadata": {},
     "output_type": "execute_result"
    }
   ],
   "source": [
    "np.var(arr1)"
   ]
  },
  {
   "cell_type": "code",
   "execution_count": 33,
   "id": "b5d6fa77-9aba-4677-bdb1-acf9797169ad",
   "metadata": {},
   "outputs": [
    {
     "data": {
      "text/plain": [
       "np.int64(1)"
      ]
     },
     "execution_count": 33,
     "metadata": {},
     "output_type": "execute_result"
    }
   ],
   "source": [
    "np.min(arr1)"
   ]
  },
  {
   "cell_type": "code",
   "execution_count": 34,
   "id": "a094b2b8-8e94-4d0d-8e27-19ae865de5a7",
   "metadata": {},
   "outputs": [
    {
     "data": {
      "text/plain": [
       "np.int64(5)"
      ]
     },
     "execution_count": 34,
     "metadata": {},
     "output_type": "execute_result"
    }
   ],
   "source": [
    "np.max(arr1)"
   ]
  },
  {
   "cell_type": "code",
   "execution_count": 35,
   "id": "c8993934-4d75-45b3-bed8-e7e83aa909a9",
   "metadata": {},
   "outputs": [
    {
     "data": {
      "text/plain": [
       "array([0.        , 0.69314718, 1.09861229, 1.38629436, 1.60943791])"
      ]
     },
     "execution_count": 35,
     "metadata": {},
     "output_type": "execute_result"
    }
   ],
   "source": [
    "np.log(arr1)"
   ]
  },
  {
   "cell_type": "code",
   "execution_count": null,
   "id": "790eff67-0f3a-4cb5-8141-8e3bf75af456",
   "metadata": {},
   "outputs": [],
   "source": []
  }
 ],
 "metadata": {
  "kernelspec": {
   "display_name": "Python 3 (ipykernel)",
   "language": "python",
   "name": "python3"
  },
  "language_info": {
   "codemirror_mode": {
    "name": "ipython",
    "version": 3
   },
   "file_extension": ".py",
   "mimetype": "text/x-python",
   "name": "python",
   "nbconvert_exporter": "python",
   "pygments_lexer": "ipython3",
   "version": "3.12.6"
  }
 },
 "nbformat": 4,
 "nbformat_minor": 5
}
